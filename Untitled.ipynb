{
 "cells": [
  {
   "cell_type": "code",
   "execution_count": 1,
   "metadata": {
    "collapsed": true
   },
   "outputs": [],
   "source": [
    "import pandas as pd\n",
    "import numpy as np\n",
    "import matplotlib.pyplot as plt"
   ]
  },
  {
   "cell_type": "code",
   "execution_count": 2,
   "metadata": {
    "collapsed": true
   },
   "outputs": [],
   "source": [
    "s = pd.Series([1, 3, 5, np.nan, 6, 8])"
   ]
  },
  {
   "cell_type": "code",
   "execution_count": 3,
   "metadata": {
    "collapsed": false
   },
   "outputs": [
    {
     "data": {
      "text/plain": [
       "0    1.0\n",
       "1    3.0\n",
       "2    5.0\n",
       "3    NaN\n",
       "4    6.0\n",
       "5    8.0\n",
       "dtype: float64"
      ]
     },
     "execution_count": 3,
     "metadata": {},
     "output_type": "execute_result"
    }
   ],
   "source": [
    "s"
   ]
  },
  {
   "cell_type": "code",
   "execution_count": 4,
   "metadata": {
    "collapsed": true
   },
   "outputs": [],
   "source": [
    "dates = pd.date_range('20140101', periods = 7)"
   ]
  },
  {
   "cell_type": "code",
   "execution_count": 5,
   "metadata": {
    "collapsed": false
   },
   "outputs": [
    {
     "data": {
      "text/plain": [
       "DatetimeIndex(['2014-01-01', '2014-01-02', '2014-01-03', '2014-01-04',\n",
       "               '2014-01-05', '2014-01-06', '2014-01-07'],\n",
       "              dtype='datetime64[ns]', freq='D')"
      ]
     },
     "execution_count": 5,
     "metadata": {},
     "output_type": "execute_result"
    }
   ],
   "source": [
    "dates"
   ]
  },
  {
   "cell_type": "code",
   "execution_count": 6,
   "metadata": {
    "collapsed": false
   },
   "outputs": [
    {
     "data": {
      "text/plain": [
       "array([[-1.93336567, -1.5762143 , -0.86678184,  1.8531145 ],\n",
       "       [-0.32336601,  0.0650979 , -0.99079654,  0.8169863 ],\n",
       "       [ 0.58510163, -0.83297755, -0.5744221 , -0.95481717],\n",
       "       [ 1.30479489,  0.01224857,  0.57257588,  0.65793917],\n",
       "       [-2.22794883, -0.81807648, -0.76416351,  0.1016447 ],\n",
       "       [-0.5619217 , -0.61724711,  0.1081901 , -0.80713987],\n",
       "       [-1.08402489,  0.35811607, -1.28620698, -1.11405853]])"
      ]
     },
     "execution_count": 6,
     "metadata": {},
     "output_type": "execute_result"
    }
   ],
   "source": [
    "np.random.randn(7, 4)"
   ]
  },
  {
   "cell_type": "code",
   "execution_count": 8,
   "metadata": {
    "collapsed": false
   },
   "outputs": [],
   "source": [
    "df = pd.DataFrame(np.random.randn(7, 5), index = dates, columns = list('ABCDE'))"
   ]
  },
  {
   "cell_type": "code",
   "execution_count": 9,
   "metadata": {
    "collapsed": false
   },
   "outputs": [
    {
     "data": {
      "text/html": [
       "<div>\n",
       "<table border=\"1\" class=\"dataframe\">\n",
       "  <thead>\n",
       "    <tr style=\"text-align: right;\">\n",
       "      <th></th>\n",
       "      <th>A</th>\n",
       "      <th>B</th>\n",
       "      <th>C</th>\n",
       "      <th>D</th>\n",
       "      <th>E</th>\n",
       "    </tr>\n",
       "  </thead>\n",
       "  <tbody>\n",
       "    <tr>\n",
       "      <th>2014-01-01</th>\n",
       "      <td>0.133222</td>\n",
       "      <td>0.993206</td>\n",
       "      <td>0.811738</td>\n",
       "      <td>-0.167453</td>\n",
       "      <td>1.242530</td>\n",
       "    </tr>\n",
       "    <tr>\n",
       "      <th>2014-01-02</th>\n",
       "      <td>0.279083</td>\n",
       "      <td>0.123263</td>\n",
       "      <td>0.910211</td>\n",
       "      <td>1.348878</td>\n",
       "      <td>-0.106072</td>\n",
       "    </tr>\n",
       "    <tr>\n",
       "      <th>2014-01-03</th>\n",
       "      <td>-1.079354</td>\n",
       "      <td>-1.332392</td>\n",
       "      <td>0.127352</td>\n",
       "      <td>0.999843</td>\n",
       "      <td>-2.814144</td>\n",
       "    </tr>\n",
       "    <tr>\n",
       "      <th>2014-01-04</th>\n",
       "      <td>1.043411</td>\n",
       "      <td>-2.247744</td>\n",
       "      <td>-0.912747</td>\n",
       "      <td>-0.234791</td>\n",
       "      <td>-0.993684</td>\n",
       "    </tr>\n",
       "    <tr>\n",
       "      <th>2014-01-05</th>\n",
       "      <td>0.317580</td>\n",
       "      <td>-1.007552</td>\n",
       "      <td>0.278544</td>\n",
       "      <td>1.277939</td>\n",
       "      <td>0.851602</td>\n",
       "    </tr>\n",
       "    <tr>\n",
       "      <th>2014-01-06</th>\n",
       "      <td>-1.115315</td>\n",
       "      <td>0.384083</td>\n",
       "      <td>1.171115</td>\n",
       "      <td>0.178264</td>\n",
       "      <td>0.890322</td>\n",
       "    </tr>\n",
       "    <tr>\n",
       "      <th>2014-01-07</th>\n",
       "      <td>-0.714889</td>\n",
       "      <td>1.279846</td>\n",
       "      <td>0.366732</td>\n",
       "      <td>0.312770</td>\n",
       "      <td>1.189220</td>\n",
       "    </tr>\n",
       "  </tbody>\n",
       "</table>\n",
       "</div>"
      ],
      "text/plain": [
       "                   A         B         C         D         E\n",
       "2014-01-01  0.133222  0.993206  0.811738 -0.167453  1.242530\n",
       "2014-01-02  0.279083  0.123263  0.910211  1.348878 -0.106072\n",
       "2014-01-03 -1.079354 -1.332392  0.127352  0.999843 -2.814144\n",
       "2014-01-04  1.043411 -2.247744 -0.912747 -0.234791 -0.993684\n",
       "2014-01-05  0.317580 -1.007552  0.278544  1.277939  0.851602\n",
       "2014-01-06 -1.115315  0.384083  1.171115  0.178264  0.890322\n",
       "2014-01-07 -0.714889  1.279846  0.366732  0.312770  1.189220"
      ]
     },
     "execution_count": 9,
     "metadata": {},
     "output_type": "execute_result"
    }
   ],
   "source": [
    "df"
   ]
  },
  {
   "cell_type": "code",
   "execution_count": 10,
   "metadata": {
    "collapsed": true
   },
   "outputs": [],
   "source": [
    " df2 = pd.DataFrame({ 'A' : 1.5,\n",
    "                      'B' : pd.Timestamp('20140102'),\n",
    "                      'C' : pd.Series(1,index=list(range(4)),dtype='float32'),\n",
    "                      'D' : np.array([3] * 4,dtype='int32'),\n",
    "                      'E' : pd.Categorical([\"test\",\"train\",\"test\",\"train\"]),\n",
    "                      'F' : 'foo' })"
   ]
  },
  {
   "cell_type": "code",
   "execution_count": 11,
   "metadata": {
    "collapsed": false
   },
   "outputs": [
    {
     "data": {
      "text/html": [
       "<div>\n",
       "<table border=\"1\" class=\"dataframe\">\n",
       "  <thead>\n",
       "    <tr style=\"text-align: right;\">\n",
       "      <th></th>\n",
       "      <th>A</th>\n",
       "      <th>B</th>\n",
       "      <th>C</th>\n",
       "      <th>D</th>\n",
       "      <th>E</th>\n",
       "      <th>F</th>\n",
       "    </tr>\n",
       "  </thead>\n",
       "  <tbody>\n",
       "    <tr>\n",
       "      <th>0</th>\n",
       "      <td>1.5</td>\n",
       "      <td>2014-01-02</td>\n",
       "      <td>1.0</td>\n",
       "      <td>3</td>\n",
       "      <td>test</td>\n",
       "      <td>foo</td>\n",
       "    </tr>\n",
       "    <tr>\n",
       "      <th>1</th>\n",
       "      <td>1.5</td>\n",
       "      <td>2014-01-02</td>\n",
       "      <td>1.0</td>\n",
       "      <td>3</td>\n",
       "      <td>train</td>\n",
       "      <td>foo</td>\n",
       "    </tr>\n",
       "    <tr>\n",
       "      <th>2</th>\n",
       "      <td>1.5</td>\n",
       "      <td>2014-01-02</td>\n",
       "      <td>1.0</td>\n",
       "      <td>3</td>\n",
       "      <td>test</td>\n",
       "      <td>foo</td>\n",
       "    </tr>\n",
       "    <tr>\n",
       "      <th>3</th>\n",
       "      <td>1.5</td>\n",
       "      <td>2014-01-02</td>\n",
       "      <td>1.0</td>\n",
       "      <td>3</td>\n",
       "      <td>train</td>\n",
       "      <td>foo</td>\n",
       "    </tr>\n",
       "  </tbody>\n",
       "</table>\n",
       "</div>"
      ],
      "text/plain": [
       "     A          B    C  D      E    F\n",
       "0  1.5 2014-01-02  1.0  3   test  foo\n",
       "1  1.5 2014-01-02  1.0  3  train  foo\n",
       "2  1.5 2014-01-02  1.0  3   test  foo\n",
       "3  1.5 2014-01-02  1.0  3  train  foo"
      ]
     },
     "execution_count": 11,
     "metadata": {},
     "output_type": "execute_result"
    }
   ],
   "source": [
    "df2"
   ]
  },
  {
   "cell_type": "code",
   "execution_count": 12,
   "metadata": {
    "collapsed": false
   },
   "outputs": [
    {
     "data": {
      "text/plain": [
       "A           float64\n",
       "B    datetime64[ns]\n",
       "C           float32\n",
       "D             int32\n",
       "E          category\n",
       "F            object\n",
       "dtype: object"
      ]
     },
     "execution_count": 12,
     "metadata": {},
     "output_type": "execute_result"
    }
   ],
   "source": [
    "df2.dtypes"
   ]
  },
  {
   "cell_type": "code",
   "execution_count": 13,
   "metadata": {
    "collapsed": false
   },
   "outputs": [
    {
     "data": {
      "text/plain": [
       "0    1.5\n",
       "1    1.5\n",
       "2    1.5\n",
       "3    1.5\n",
       "Name: A, dtype: float64"
      ]
     },
     "execution_count": 13,
     "metadata": {},
     "output_type": "execute_result"
    }
   ],
   "source": [
    "df2.A"
   ]
  },
  {
   "cell_type": "code",
   "execution_count": 14,
   "metadata": {
    "collapsed": false
   },
   "outputs": [
    {
     "data": {
      "text/html": [
       "<div>\n",
       "<table border=\"1\" class=\"dataframe\">\n",
       "  <thead>\n",
       "    <tr style=\"text-align: right;\">\n",
       "      <th></th>\n",
       "      <th>A</th>\n",
       "      <th>B</th>\n",
       "      <th>C</th>\n",
       "      <th>D</th>\n",
       "      <th>E</th>\n",
       "    </tr>\n",
       "  </thead>\n",
       "  <tbody>\n",
       "    <tr>\n",
       "      <th>2014-01-01</th>\n",
       "      <td>0.133222</td>\n",
       "      <td>0.993206</td>\n",
       "      <td>0.811738</td>\n",
       "      <td>-0.167453</td>\n",
       "      <td>1.242530</td>\n",
       "    </tr>\n",
       "    <tr>\n",
       "      <th>2014-01-02</th>\n",
       "      <td>0.279083</td>\n",
       "      <td>0.123263</td>\n",
       "      <td>0.910211</td>\n",
       "      <td>1.348878</td>\n",
       "      <td>-0.106072</td>\n",
       "    </tr>\n",
       "    <tr>\n",
       "      <th>2014-01-03</th>\n",
       "      <td>-1.079354</td>\n",
       "      <td>-1.332392</td>\n",
       "      <td>0.127352</td>\n",
       "      <td>0.999843</td>\n",
       "      <td>-2.814144</td>\n",
       "    </tr>\n",
       "    <tr>\n",
       "      <th>2014-01-04</th>\n",
       "      <td>1.043411</td>\n",
       "      <td>-2.247744</td>\n",
       "      <td>-0.912747</td>\n",
       "      <td>-0.234791</td>\n",
       "      <td>-0.993684</td>\n",
       "    </tr>\n",
       "    <tr>\n",
       "      <th>2014-01-05</th>\n",
       "      <td>0.317580</td>\n",
       "      <td>-1.007552</td>\n",
       "      <td>0.278544</td>\n",
       "      <td>1.277939</td>\n",
       "      <td>0.851602</td>\n",
       "    </tr>\n",
       "  </tbody>\n",
       "</table>\n",
       "</div>"
      ],
      "text/plain": [
       "                   A         B         C         D         E\n",
       "2014-01-01  0.133222  0.993206  0.811738 -0.167453  1.242530\n",
       "2014-01-02  0.279083  0.123263  0.910211  1.348878 -0.106072\n",
       "2014-01-03 -1.079354 -1.332392  0.127352  0.999843 -2.814144\n",
       "2014-01-04  1.043411 -2.247744 -0.912747 -0.234791 -0.993684\n",
       "2014-01-05  0.317580 -1.007552  0.278544  1.277939  0.851602"
      ]
     },
     "execution_count": 14,
     "metadata": {},
     "output_type": "execute_result"
    }
   ],
   "source": [
    "df.head()"
   ]
  },
  {
   "cell_type": "code",
   "execution_count": 15,
   "metadata": {
    "collapsed": false
   },
   "outputs": [
    {
     "data": {
      "text/html": [
       "<div>\n",
       "<table border=\"1\" class=\"dataframe\">\n",
       "  <thead>\n",
       "    <tr style=\"text-align: right;\">\n",
       "      <th></th>\n",
       "      <th>A</th>\n",
       "      <th>B</th>\n",
       "      <th>C</th>\n",
       "      <th>D</th>\n",
       "      <th>E</th>\n",
       "    </tr>\n",
       "  </thead>\n",
       "  <tbody>\n",
       "    <tr>\n",
       "      <th>count</th>\n",
       "      <td>7.000000</td>\n",
       "      <td>7.000000</td>\n",
       "      <td>7.000000</td>\n",
       "      <td>7.000000</td>\n",
       "      <td>7.000000</td>\n",
       "    </tr>\n",
       "    <tr>\n",
       "      <th>mean</th>\n",
       "      <td>-0.162323</td>\n",
       "      <td>-0.258184</td>\n",
       "      <td>0.393278</td>\n",
       "      <td>0.530779</td>\n",
       "      <td>0.037111</td>\n",
       "    </tr>\n",
       "    <tr>\n",
       "      <th>std</th>\n",
       "      <td>0.818612</td>\n",
       "      <td>1.301496</td>\n",
       "      <td>0.687707</td>\n",
       "      <td>0.669947</td>\n",
       "      <td>1.493567</td>\n",
       "    </tr>\n",
       "    <tr>\n",
       "      <th>min</th>\n",
       "      <td>-1.115315</td>\n",
       "      <td>-2.247744</td>\n",
       "      <td>-0.912747</td>\n",
       "      <td>-0.234791</td>\n",
       "      <td>-2.814144</td>\n",
       "    </tr>\n",
       "    <tr>\n",
       "      <th>25%</th>\n",
       "      <td>-0.897121</td>\n",
       "      <td>-1.169972</td>\n",
       "      <td>0.202948</td>\n",
       "      <td>0.005406</td>\n",
       "      <td>-0.549878</td>\n",
       "    </tr>\n",
       "    <tr>\n",
       "      <th>50%</th>\n",
       "      <td>0.133222</td>\n",
       "      <td>0.123263</td>\n",
       "      <td>0.366732</td>\n",
       "      <td>0.312770</td>\n",
       "      <td>0.851602</td>\n",
       "    </tr>\n",
       "    <tr>\n",
       "      <th>75%</th>\n",
       "      <td>0.298331</td>\n",
       "      <td>0.688645</td>\n",
       "      <td>0.860975</td>\n",
       "      <td>1.138891</td>\n",
       "      <td>1.039771</td>\n",
       "    </tr>\n",
       "    <tr>\n",
       "      <th>max</th>\n",
       "      <td>1.043411</td>\n",
       "      <td>1.279846</td>\n",
       "      <td>1.171115</td>\n",
       "      <td>1.348878</td>\n",
       "      <td>1.242530</td>\n",
       "    </tr>\n",
       "  </tbody>\n",
       "</table>\n",
       "</div>"
      ],
      "text/plain": [
       "              A         B         C         D         E\n",
       "count  7.000000  7.000000  7.000000  7.000000  7.000000\n",
       "mean  -0.162323 -0.258184  0.393278  0.530779  0.037111\n",
       "std    0.818612  1.301496  0.687707  0.669947  1.493567\n",
       "min   -1.115315 -2.247744 -0.912747 -0.234791 -2.814144\n",
       "25%   -0.897121 -1.169972  0.202948  0.005406 -0.549878\n",
       "50%    0.133222  0.123263  0.366732  0.312770  0.851602\n",
       "75%    0.298331  0.688645  0.860975  1.138891  1.039771\n",
       "max    1.043411  1.279846  1.171115  1.348878  1.242530"
      ]
     },
     "execution_count": 15,
     "metadata": {},
     "output_type": "execute_result"
    }
   ],
   "source": [
    "df.describe()"
   ]
  },
  {
   "cell_type": "code",
   "execution_count": 16,
   "metadata": {
    "collapsed": false
   },
   "outputs": [
    {
     "data": {
      "text/html": [
       "<div>\n",
       "<table border=\"1\" class=\"dataframe\">\n",
       "  <thead>\n",
       "    <tr style=\"text-align: right;\">\n",
       "      <th></th>\n",
       "      <th>2014-01-01 00:00:00</th>\n",
       "      <th>2014-01-02 00:00:00</th>\n",
       "      <th>2014-01-03 00:00:00</th>\n",
       "      <th>2014-01-04 00:00:00</th>\n",
       "      <th>2014-01-05 00:00:00</th>\n",
       "      <th>2014-01-06 00:00:00</th>\n",
       "      <th>2014-01-07 00:00:00</th>\n",
       "    </tr>\n",
       "  </thead>\n",
       "  <tbody>\n",
       "    <tr>\n",
       "      <th>A</th>\n",
       "      <td>0.133222</td>\n",
       "      <td>0.279083</td>\n",
       "      <td>-1.079354</td>\n",
       "      <td>1.043411</td>\n",
       "      <td>0.317580</td>\n",
       "      <td>-1.115315</td>\n",
       "      <td>-0.714889</td>\n",
       "    </tr>\n",
       "    <tr>\n",
       "      <th>B</th>\n",
       "      <td>0.993206</td>\n",
       "      <td>0.123263</td>\n",
       "      <td>-1.332392</td>\n",
       "      <td>-2.247744</td>\n",
       "      <td>-1.007552</td>\n",
       "      <td>0.384083</td>\n",
       "      <td>1.279846</td>\n",
       "    </tr>\n",
       "    <tr>\n",
       "      <th>C</th>\n",
       "      <td>0.811738</td>\n",
       "      <td>0.910211</td>\n",
       "      <td>0.127352</td>\n",
       "      <td>-0.912747</td>\n",
       "      <td>0.278544</td>\n",
       "      <td>1.171115</td>\n",
       "      <td>0.366732</td>\n",
       "    </tr>\n",
       "    <tr>\n",
       "      <th>D</th>\n",
       "      <td>-0.167453</td>\n",
       "      <td>1.348878</td>\n",
       "      <td>0.999843</td>\n",
       "      <td>-0.234791</td>\n",
       "      <td>1.277939</td>\n",
       "      <td>0.178264</td>\n",
       "      <td>0.312770</td>\n",
       "    </tr>\n",
       "    <tr>\n",
       "      <th>E</th>\n",
       "      <td>1.242530</td>\n",
       "      <td>-0.106072</td>\n",
       "      <td>-2.814144</td>\n",
       "      <td>-0.993684</td>\n",
       "      <td>0.851602</td>\n",
       "      <td>0.890322</td>\n",
       "      <td>1.189220</td>\n",
       "    </tr>\n",
       "  </tbody>\n",
       "</table>\n",
       "</div>"
      ],
      "text/plain": [
       "   2014-01-01  2014-01-02  2014-01-03  2014-01-04  2014-01-05  2014-01-06  \\\n",
       "A    0.133222    0.279083   -1.079354    1.043411    0.317580   -1.115315   \n",
       "B    0.993206    0.123263   -1.332392   -2.247744   -1.007552    0.384083   \n",
       "C    0.811738    0.910211    0.127352   -0.912747    0.278544    1.171115   \n",
       "D   -0.167453    1.348878    0.999843   -0.234791    1.277939    0.178264   \n",
       "E    1.242530   -0.106072   -2.814144   -0.993684    0.851602    0.890322   \n",
       "\n",
       "   2014-01-07  \n",
       "A   -0.714889  \n",
       "B    1.279846  \n",
       "C    0.366732  \n",
       "D    0.312770  \n",
       "E    1.189220  "
      ]
     },
     "execution_count": 16,
     "metadata": {},
     "output_type": "execute_result"
    }
   ],
   "source": [
    "df.T"
   ]
  },
  {
   "cell_type": "code",
   "execution_count": 21,
   "metadata": {
    "collapsed": false
   },
   "outputs": [
    {
     "data": {
      "text/html": [
       "<div>\n",
       "<table border=\"1\" class=\"dataframe\">\n",
       "  <thead>\n",
       "    <tr style=\"text-align: right;\">\n",
       "      <th></th>\n",
       "      <th>A</th>\n",
       "      <th>B</th>\n",
       "      <th>C</th>\n",
       "      <th>D</th>\n",
       "      <th>E</th>\n",
       "    </tr>\n",
       "  </thead>\n",
       "  <tbody>\n",
       "    <tr>\n",
       "      <th>2014-01-01</th>\n",
       "      <td>0.133222</td>\n",
       "      <td>0.993206</td>\n",
       "      <td>0.811738</td>\n",
       "      <td>-0.167453</td>\n",
       "      <td>1.242530</td>\n",
       "    </tr>\n",
       "    <tr>\n",
       "      <th>2014-01-02</th>\n",
       "      <td>0.279083</td>\n",
       "      <td>0.123263</td>\n",
       "      <td>0.910211</td>\n",
       "      <td>1.348878</td>\n",
       "      <td>-0.106072</td>\n",
       "    </tr>\n",
       "    <tr>\n",
       "      <th>2014-01-03</th>\n",
       "      <td>-1.079354</td>\n",
       "      <td>-1.332392</td>\n",
       "      <td>0.127352</td>\n",
       "      <td>0.999843</td>\n",
       "      <td>-2.814144</td>\n",
       "    </tr>\n",
       "    <tr>\n",
       "      <th>2014-01-04</th>\n",
       "      <td>1.043411</td>\n",
       "      <td>-2.247744</td>\n",
       "      <td>-0.912747</td>\n",
       "      <td>-0.234791</td>\n",
       "      <td>-0.993684</td>\n",
       "    </tr>\n",
       "    <tr>\n",
       "      <th>2014-01-05</th>\n",
       "      <td>0.317580</td>\n",
       "      <td>-1.007552</td>\n",
       "      <td>0.278544</td>\n",
       "      <td>1.277939</td>\n",
       "      <td>0.851602</td>\n",
       "    </tr>\n",
       "    <tr>\n",
       "      <th>2014-01-06</th>\n",
       "      <td>-1.115315</td>\n",
       "      <td>0.384083</td>\n",
       "      <td>1.171115</td>\n",
       "      <td>0.178264</td>\n",
       "      <td>0.890322</td>\n",
       "    </tr>\n",
       "    <tr>\n",
       "      <th>2014-01-07</th>\n",
       "      <td>-0.714889</td>\n",
       "      <td>1.279846</td>\n",
       "      <td>0.366732</td>\n",
       "      <td>0.312770</td>\n",
       "      <td>1.189220</td>\n",
       "    </tr>\n",
       "  </tbody>\n",
       "</table>\n",
       "</div>"
      ],
      "text/plain": [
       "                   A         B         C         D         E\n",
       "2014-01-01  0.133222  0.993206  0.811738 -0.167453  1.242530\n",
       "2014-01-02  0.279083  0.123263  0.910211  1.348878 -0.106072\n",
       "2014-01-03 -1.079354 -1.332392  0.127352  0.999843 -2.814144\n",
       "2014-01-04  1.043411 -2.247744 -0.912747 -0.234791 -0.993684\n",
       "2014-01-05  0.317580 -1.007552  0.278544  1.277939  0.851602\n",
       "2014-01-06 -1.115315  0.384083  1.171115  0.178264  0.890322\n",
       "2014-01-07 -0.714889  1.279846  0.366732  0.312770  1.189220"
      ]
     },
     "execution_count": 21,
     "metadata": {},
     "output_type": "execute_result"
    }
   ],
   "source": [
    "df.sort_index(axis=1, ascending=True)"
   ]
  },
  {
   "cell_type": "code",
   "execution_count": 22,
   "metadata": {
    "collapsed": false
   },
   "outputs": [
    {
     "data": {
      "text/html": [
       "<div>\n",
       "<table border=\"1\" class=\"dataframe\">\n",
       "  <thead>\n",
       "    <tr style=\"text-align: right;\">\n",
       "      <th></th>\n",
       "      <th>A</th>\n",
       "      <th>B</th>\n",
       "      <th>C</th>\n",
       "      <th>D</th>\n",
       "      <th>E</th>\n",
       "    </tr>\n",
       "  </thead>\n",
       "  <tbody>\n",
       "    <tr>\n",
       "      <th>2014-01-03</th>\n",
       "      <td>-1.079354</td>\n",
       "      <td>-1.332392</td>\n",
       "      <td>0.127352</td>\n",
       "      <td>0.999843</td>\n",
       "      <td>-2.814144</td>\n",
       "    </tr>\n",
       "    <tr>\n",
       "      <th>2014-01-04</th>\n",
       "      <td>1.043411</td>\n",
       "      <td>-2.247744</td>\n",
       "      <td>-0.912747</td>\n",
       "      <td>-0.234791</td>\n",
       "      <td>-0.993684</td>\n",
       "    </tr>\n",
       "    <tr>\n",
       "      <th>2014-01-02</th>\n",
       "      <td>0.279083</td>\n",
       "      <td>0.123263</td>\n",
       "      <td>0.910211</td>\n",
       "      <td>1.348878</td>\n",
       "      <td>-0.106072</td>\n",
       "    </tr>\n",
       "    <tr>\n",
       "      <th>2014-01-05</th>\n",
       "      <td>0.317580</td>\n",
       "      <td>-1.007552</td>\n",
       "      <td>0.278544</td>\n",
       "      <td>1.277939</td>\n",
       "      <td>0.851602</td>\n",
       "    </tr>\n",
       "    <tr>\n",
       "      <th>2014-01-06</th>\n",
       "      <td>-1.115315</td>\n",
       "      <td>0.384083</td>\n",
       "      <td>1.171115</td>\n",
       "      <td>0.178264</td>\n",
       "      <td>0.890322</td>\n",
       "    </tr>\n",
       "    <tr>\n",
       "      <th>2014-01-07</th>\n",
       "      <td>-0.714889</td>\n",
       "      <td>1.279846</td>\n",
       "      <td>0.366732</td>\n",
       "      <td>0.312770</td>\n",
       "      <td>1.189220</td>\n",
       "    </tr>\n",
       "    <tr>\n",
       "      <th>2014-01-01</th>\n",
       "      <td>0.133222</td>\n",
       "      <td>0.993206</td>\n",
       "      <td>0.811738</td>\n",
       "      <td>-0.167453</td>\n",
       "      <td>1.242530</td>\n",
       "    </tr>\n",
       "  </tbody>\n",
       "</table>\n",
       "</div>"
      ],
      "text/plain": [
       "                   A         B         C         D         E\n",
       "2014-01-03 -1.079354 -1.332392  0.127352  0.999843 -2.814144\n",
       "2014-01-04  1.043411 -2.247744 -0.912747 -0.234791 -0.993684\n",
       "2014-01-02  0.279083  0.123263  0.910211  1.348878 -0.106072\n",
       "2014-01-05  0.317580 -1.007552  0.278544  1.277939  0.851602\n",
       "2014-01-06 -1.115315  0.384083  1.171115  0.178264  0.890322\n",
       "2014-01-07 -0.714889  1.279846  0.366732  0.312770  1.189220\n",
       "2014-01-01  0.133222  0.993206  0.811738 -0.167453  1.242530"
      ]
     },
     "execution_count": 22,
     "metadata": {},
     "output_type": "execute_result"
    }
   ],
   "source": [
    "df.sort_values(by = 'E')"
   ]
  },
  {
   "cell_type": "code",
   "execution_count": 23,
   "metadata": {
    "collapsed": false
   },
   "outputs": [
    {
     "data": {
      "text/html": [
       "<div>\n",
       "<table border=\"1\" class=\"dataframe\">\n",
       "  <thead>\n",
       "    <tr style=\"text-align: right;\">\n",
       "      <th></th>\n",
       "      <th>A</th>\n",
       "      <th>B</th>\n",
       "      <th>C</th>\n",
       "      <th>D</th>\n",
       "      <th>E</th>\n",
       "    </tr>\n",
       "  </thead>\n",
       "  <tbody>\n",
       "    <tr>\n",
       "      <th>2014-01-01</th>\n",
       "      <td>0.133222</td>\n",
       "      <td>0.993206</td>\n",
       "      <td>0.811738</td>\n",
       "      <td>-0.167453</td>\n",
       "      <td>1.242530</td>\n",
       "    </tr>\n",
       "    <tr>\n",
       "      <th>2014-01-02</th>\n",
       "      <td>0.279083</td>\n",
       "      <td>0.123263</td>\n",
       "      <td>0.910211</td>\n",
       "      <td>1.348878</td>\n",
       "      <td>-0.106072</td>\n",
       "    </tr>\n",
       "    <tr>\n",
       "      <th>2014-01-03</th>\n",
       "      <td>-1.079354</td>\n",
       "      <td>-1.332392</td>\n",
       "      <td>0.127352</td>\n",
       "      <td>0.999843</td>\n",
       "      <td>-2.814144</td>\n",
       "    </tr>\n",
       "  </tbody>\n",
       "</table>\n",
       "</div>"
      ],
      "text/plain": [
       "                   A         B         C         D         E\n",
       "2014-01-01  0.133222  0.993206  0.811738 -0.167453  1.242530\n",
       "2014-01-02  0.279083  0.123263  0.910211  1.348878 -0.106072\n",
       "2014-01-03 -1.079354 -1.332392  0.127352  0.999843 -2.814144"
      ]
     },
     "execution_count": 23,
     "metadata": {},
     "output_type": "execute_result"
    }
   ],
   "source": [
    "df[0:3]"
   ]
  },
  {
   "cell_type": "code",
   "execution_count": 25,
   "metadata": {
    "collapsed": false
   },
   "outputs": [
    {
     "data": {
      "text/plain": [
       "A    0.279083\n",
       "B    0.123263\n",
       "C    0.910211\n",
       "D    1.348878\n",
       "E   -0.106072\n",
       "Name: 2014-01-02 00:00:00, dtype: float64"
      ]
     },
     "execution_count": 25,
     "metadata": {},
     "output_type": "execute_result"
    }
   ],
   "source": [
    "df.loc[dates[1]]"
   ]
  },
  {
   "cell_type": "code",
   "execution_count": 28,
   "metadata": {
    "collapsed": false
   },
   "outputs": [
    {
     "data": {
      "text/html": [
       "<div>\n",
       "<table border=\"1\" class=\"dataframe\">\n",
       "  <thead>\n",
       "    <tr style=\"text-align: right;\">\n",
       "      <th></th>\n",
       "      <th>B</th>\n",
       "    </tr>\n",
       "  </thead>\n",
       "  <tbody>\n",
       "    <tr>\n",
       "      <th>2014-01-01</th>\n",
       "      <td>0.993206</td>\n",
       "    </tr>\n",
       "    <tr>\n",
       "      <th>2014-01-02</th>\n",
       "      <td>0.123263</td>\n",
       "    </tr>\n",
       "    <tr>\n",
       "      <th>2014-01-03</th>\n",
       "      <td>-1.332392</td>\n",
       "    </tr>\n",
       "    <tr>\n",
       "      <th>2014-01-04</th>\n",
       "      <td>-2.247744</td>\n",
       "    </tr>\n",
       "    <tr>\n",
       "      <th>2014-01-05</th>\n",
       "      <td>-1.007552</td>\n",
       "    </tr>\n",
       "    <tr>\n",
       "      <th>2014-01-06</th>\n",
       "      <td>0.384083</td>\n",
       "    </tr>\n",
       "    <tr>\n",
       "      <th>2014-01-07</th>\n",
       "      <td>1.279846</td>\n",
       "    </tr>\n",
       "  </tbody>\n",
       "</table>\n",
       "</div>"
      ],
      "text/plain": [
       "                   B\n",
       "2014-01-01  0.993206\n",
       "2014-01-02  0.123263\n",
       "2014-01-03 -1.332392\n",
       "2014-01-04 -2.247744\n",
       "2014-01-05 -1.007552\n",
       "2014-01-06  0.384083\n",
       "2014-01-07  1.279846"
      ]
     },
     "execution_count": 28,
     "metadata": {},
     "output_type": "execute_result"
    }
   ],
   "source": [
    "df.loc[:, ['B']]"
   ]
  },
  {
   "cell_type": "code",
   "execution_count": 29,
   "metadata": {
    "collapsed": false
   },
   "outputs": [
    {
     "data": {
      "text/html": [
       "<div>\n",
       "<table border=\"1\" class=\"dataframe\">\n",
       "  <thead>\n",
       "    <tr style=\"text-align: right;\">\n",
       "      <th></th>\n",
       "      <th>A</th>\n",
       "      <th>C</th>\n",
       "    </tr>\n",
       "  </thead>\n",
       "  <tbody>\n",
       "    <tr>\n",
       "      <th>2014-01-01</th>\n",
       "      <td>0.133222</td>\n",
       "      <td>0.811738</td>\n",
       "    </tr>\n",
       "    <tr>\n",
       "      <th>2014-01-02</th>\n",
       "      <td>0.279083</td>\n",
       "      <td>0.910211</td>\n",
       "    </tr>\n",
       "    <tr>\n",
       "      <th>2014-01-03</th>\n",
       "      <td>-1.079354</td>\n",
       "      <td>0.127352</td>\n",
       "    </tr>\n",
       "    <tr>\n",
       "      <th>2014-01-04</th>\n",
       "      <td>1.043411</td>\n",
       "      <td>-0.912747</td>\n",
       "    </tr>\n",
       "    <tr>\n",
       "      <th>2014-01-05</th>\n",
       "      <td>0.317580</td>\n",
       "      <td>0.278544</td>\n",
       "    </tr>\n",
       "    <tr>\n",
       "      <th>2014-01-06</th>\n",
       "      <td>-1.115315</td>\n",
       "      <td>1.171115</td>\n",
       "    </tr>\n",
       "  </tbody>\n",
       "</table>\n",
       "</div>"
      ],
      "text/plain": [
       "                   A         C\n",
       "2014-01-01  0.133222  0.811738\n",
       "2014-01-02  0.279083  0.910211\n",
       "2014-01-03 -1.079354  0.127352\n",
       "2014-01-04  1.043411 -0.912747\n",
       "2014-01-05  0.317580  0.278544\n",
       "2014-01-06 -1.115315  1.171115"
      ]
     },
     "execution_count": 29,
     "metadata": {},
     "output_type": "execute_result"
    }
   ],
   "source": [
    "df.loc['2014-01-01':'2014-01-06', ['A','C']]"
   ]
  },
  {
   "cell_type": "code",
   "execution_count": 30,
   "metadata": {
    "collapsed": false
   },
   "outputs": [
    {
     "data": {
      "text/html": [
       "<div>\n",
       "<table border=\"1\" class=\"dataframe\">\n",
       "  <thead>\n",
       "    <tr style=\"text-align: right;\">\n",
       "      <th></th>\n",
       "      <th>A</th>\n",
       "    </tr>\n",
       "  </thead>\n",
       "  <tbody>\n",
       "    <tr>\n",
       "      <th>2014-01-01</th>\n",
       "      <td>0.133222</td>\n",
       "    </tr>\n",
       "    <tr>\n",
       "      <th>2014-01-02</th>\n",
       "      <td>0.279083</td>\n",
       "    </tr>\n",
       "    <tr>\n",
       "      <th>2014-01-03</th>\n",
       "      <td>-1.079354</td>\n",
       "    </tr>\n",
       "  </tbody>\n",
       "</table>\n",
       "</div>"
      ],
      "text/plain": [
       "                   A\n",
       "2014-01-01  0.133222\n",
       "2014-01-02  0.279083\n",
       "2014-01-03 -1.079354"
      ]
     },
     "execution_count": 30,
     "metadata": {},
     "output_type": "execute_result"
    }
   ],
   "source": [
    "df.loc[dates[0:3], ['A']]"
   ]
  },
  {
   "cell_type": "code",
   "execution_count": 31,
   "metadata": {
    "collapsed": false
   },
   "outputs": [
    {
     "data": {
      "text/plain": [
       "-0.23479054104815336"
      ]
     },
     "execution_count": 31,
     "metadata": {},
     "output_type": "execute_result"
    }
   ],
   "source": [
    "df.loc[dates[3], 'D']"
   ]
  },
  {
   "cell_type": "code",
   "execution_count": 33,
   "metadata": {
    "collapsed": false
   },
   "outputs": [
    {
     "data": {
      "text/html": [
       "<div>\n",
       "<table border=\"1\" class=\"dataframe\">\n",
       "  <thead>\n",
       "    <tr style=\"text-align: right;\">\n",
       "      <th></th>\n",
       "      <th>A</th>\n",
       "      <th>B</th>\n",
       "      <th>C</th>\n",
       "      <th>D</th>\n",
       "      <th>E</th>\n",
       "    </tr>\n",
       "  </thead>\n",
       "  <tbody>\n",
       "    <tr>\n",
       "      <th>2014-01-01</th>\n",
       "      <td>0.133222</td>\n",
       "      <td>0.993206</td>\n",
       "      <td>0.811738</td>\n",
       "      <td>-0.167453</td>\n",
       "      <td>1.242530</td>\n",
       "    </tr>\n",
       "    <tr>\n",
       "      <th>2014-01-02</th>\n",
       "      <td>0.279083</td>\n",
       "      <td>0.123263</td>\n",
       "      <td>0.910211</td>\n",
       "      <td>1.348878</td>\n",
       "      <td>-0.106072</td>\n",
       "    </tr>\n",
       "    <tr>\n",
       "      <th>2014-01-03</th>\n",
       "      <td>-1.079354</td>\n",
       "      <td>-1.332392</td>\n",
       "      <td>0.127352</td>\n",
       "      <td>0.999843</td>\n",
       "      <td>-2.814144</td>\n",
       "    </tr>\n",
       "    <tr>\n",
       "      <th>2014-01-04</th>\n",
       "      <td>1.043411</td>\n",
       "      <td>-2.247744</td>\n",
       "      <td>-0.912747</td>\n",
       "      <td>-0.234791</td>\n",
       "      <td>-0.993684</td>\n",
       "    </tr>\n",
       "    <tr>\n",
       "      <th>2014-01-05</th>\n",
       "      <td>0.317580</td>\n",
       "      <td>-1.007552</td>\n",
       "      <td>0.278544</td>\n",
       "      <td>1.277939</td>\n",
       "      <td>0.851602</td>\n",
       "    </tr>\n",
       "    <tr>\n",
       "      <th>2014-01-06</th>\n",
       "      <td>-1.115315</td>\n",
       "      <td>0.384083</td>\n",
       "      <td>1.171115</td>\n",
       "      <td>0.178264</td>\n",
       "      <td>0.890322</td>\n",
       "    </tr>\n",
       "    <tr>\n",
       "      <th>2014-01-07</th>\n",
       "      <td>-0.714889</td>\n",
       "      <td>1.279846</td>\n",
       "      <td>0.366732</td>\n",
       "      <td>0.312770</td>\n",
       "      <td>1.189220</td>\n",
       "    </tr>\n",
       "  </tbody>\n",
       "</table>\n",
       "</div>"
      ],
      "text/plain": [
       "                   A         B         C         D         E\n",
       "2014-01-01  0.133222  0.993206  0.811738 -0.167453  1.242530\n",
       "2014-01-02  0.279083  0.123263  0.910211  1.348878 -0.106072\n",
       "2014-01-03 -1.079354 -1.332392  0.127352  0.999843 -2.814144\n",
       "2014-01-04  1.043411 -2.247744 -0.912747 -0.234791 -0.993684\n",
       "2014-01-05  0.317580 -1.007552  0.278544  1.277939  0.851602\n",
       "2014-01-06 -1.115315  0.384083  1.171115  0.178264  0.890322\n",
       "2014-01-07 -0.714889  1.279846  0.366732  0.312770  1.189220"
      ]
     },
     "execution_count": 33,
     "metadata": {},
     "output_type": "execute_result"
    }
   ],
   "source": [
    "df"
   ]
  },
  {
   "cell_type": "code",
   "execution_count": 32,
   "metadata": {
    "collapsed": false
   },
   "outputs": [
    {
     "data": {
      "text/plain": [
       "A    1.043411\n",
       "B   -2.247744\n",
       "C   -0.912747\n",
       "D   -0.234791\n",
       "E   -0.993684\n",
       "Name: 2014-01-04 00:00:00, dtype: float64"
      ]
     },
     "execution_count": 32,
     "metadata": {},
     "output_type": "execute_result"
    }
   ],
   "source": [
    "df.iloc[3]"
   ]
  },
  {
   "cell_type": "code",
   "execution_count": 36,
   "metadata": {
    "collapsed": false
   },
   "outputs": [
    {
     "data": {
      "text/html": [
       "<div>\n",
       "<table border=\"1\" class=\"dataframe\">\n",
       "  <thead>\n",
       "    <tr style=\"text-align: right;\">\n",
       "      <th></th>\n",
       "      <th>A</th>\n",
       "      <th>B</th>\n",
       "      <th>C</th>\n",
       "    </tr>\n",
       "  </thead>\n",
       "  <tbody>\n",
       "    <tr>\n",
       "      <th>2014-01-02</th>\n",
       "      <td>0.279083</td>\n",
       "      <td>0.123263</td>\n",
       "      <td>0.910211</td>\n",
       "    </tr>\n",
       "    <tr>\n",
       "      <th>2014-01-04</th>\n",
       "      <td>1.043411</td>\n",
       "      <td>-2.247744</td>\n",
       "      <td>-0.912747</td>\n",
       "    </tr>\n",
       "    <tr>\n",
       "      <th>2014-01-06</th>\n",
       "      <td>-1.115315</td>\n",
       "      <td>0.384083</td>\n",
       "      <td>1.171115</td>\n",
       "    </tr>\n",
       "  </tbody>\n",
       "</table>\n",
       "</div>"
      ],
      "text/plain": [
       "                   A         B         C\n",
       "2014-01-02  0.279083  0.123263  0.910211\n",
       "2014-01-04  1.043411 -2.247744 -0.912747\n",
       "2014-01-06 -1.115315  0.384083  1.171115"
      ]
     },
     "execution_count": 36,
     "metadata": {},
     "output_type": "execute_result"
    }
   ],
   "source": [
    "df.iloc[[1,3,5], 0:3]"
   ]
  },
  {
   "cell_type": "code",
   "execution_count": 37,
   "metadata": {
    "collapsed": false
   },
   "outputs": [
    {
     "data": {
      "text/plain": [
       "0.12735182928571062"
      ]
     },
     "execution_count": 37,
     "metadata": {},
     "output_type": "execute_result"
    }
   ],
   "source": [
    "df.iat[2,2]"
   ]
  },
  {
   "cell_type": "code",
   "execution_count": 40,
   "metadata": {
    "collapsed": false
   },
   "outputs": [
    {
     "data": {
      "text/html": [
       "<div>\n",
       "<table border=\"1\" class=\"dataframe\">\n",
       "  <thead>\n",
       "    <tr style=\"text-align: right;\">\n",
       "      <th></th>\n",
       "      <th>A</th>\n",
       "      <th>B</th>\n",
       "      <th>C</th>\n",
       "      <th>D</th>\n",
       "      <th>E</th>\n",
       "    </tr>\n",
       "  </thead>\n",
       "  <tbody>\n",
       "    <tr>\n",
       "      <th>2014-01-01</th>\n",
       "      <td>0.133222</td>\n",
       "      <td>0.993206</td>\n",
       "      <td>0.811738</td>\n",
       "      <td>-0.167453</td>\n",
       "      <td>1.242530</td>\n",
       "    </tr>\n",
       "    <tr>\n",
       "      <th>2014-01-02</th>\n",
       "      <td>0.279083</td>\n",
       "      <td>0.123263</td>\n",
       "      <td>0.910211</td>\n",
       "      <td>1.348878</td>\n",
       "      <td>-0.106072</td>\n",
       "    </tr>\n",
       "    <tr>\n",
       "      <th>2014-01-06</th>\n",
       "      <td>-1.115315</td>\n",
       "      <td>0.384083</td>\n",
       "      <td>1.171115</td>\n",
       "      <td>0.178264</td>\n",
       "      <td>0.890322</td>\n",
       "    </tr>\n",
       "    <tr>\n",
       "      <th>2014-01-07</th>\n",
       "      <td>-0.714889</td>\n",
       "      <td>1.279846</td>\n",
       "      <td>0.366732</td>\n",
       "      <td>0.312770</td>\n",
       "      <td>1.189220</td>\n",
       "    </tr>\n",
       "  </tbody>\n",
       "</table>\n",
       "</div>"
      ],
      "text/plain": [
       "                   A         B         C         D         E\n",
       "2014-01-01  0.133222  0.993206  0.811738 -0.167453  1.242530\n",
       "2014-01-02  0.279083  0.123263  0.910211  1.348878 -0.106072\n",
       "2014-01-06 -1.115315  0.384083  1.171115  0.178264  0.890322\n",
       "2014-01-07 -0.714889  1.279846  0.366732  0.312770  1.189220"
      ]
     },
     "execution_count": 40,
     "metadata": {},
     "output_type": "execute_result"
    }
   ],
   "source": [
    "df[df.B > 0]"
   ]
  },
  {
   "cell_type": "code",
   "execution_count": 41,
   "metadata": {
    "collapsed": false
   },
   "outputs": [
    {
     "data": {
      "text/html": [
       "<div>\n",
       "<table border=\"1\" class=\"dataframe\">\n",
       "  <thead>\n",
       "    <tr style=\"text-align: right;\">\n",
       "      <th></th>\n",
       "      <th>A</th>\n",
       "      <th>B</th>\n",
       "      <th>C</th>\n",
       "      <th>D</th>\n",
       "      <th>E</th>\n",
       "    </tr>\n",
       "  </thead>\n",
       "  <tbody>\n",
       "    <tr>\n",
       "      <th>2014-01-01</th>\n",
       "      <td>0.133222</td>\n",
       "      <td>0.993206</td>\n",
       "      <td>0.811738</td>\n",
       "      <td>NaN</td>\n",
       "      <td>1.242530</td>\n",
       "    </tr>\n",
       "    <tr>\n",
       "      <th>2014-01-02</th>\n",
       "      <td>0.279083</td>\n",
       "      <td>0.123263</td>\n",
       "      <td>0.910211</td>\n",
       "      <td>1.348878</td>\n",
       "      <td>NaN</td>\n",
       "    </tr>\n",
       "    <tr>\n",
       "      <th>2014-01-03</th>\n",
       "      <td>NaN</td>\n",
       "      <td>NaN</td>\n",
       "      <td>0.127352</td>\n",
       "      <td>0.999843</td>\n",
       "      <td>NaN</td>\n",
       "    </tr>\n",
       "    <tr>\n",
       "      <th>2014-01-04</th>\n",
       "      <td>1.043411</td>\n",
       "      <td>NaN</td>\n",
       "      <td>NaN</td>\n",
       "      <td>NaN</td>\n",
       "      <td>NaN</td>\n",
       "    </tr>\n",
       "    <tr>\n",
       "      <th>2014-01-05</th>\n",
       "      <td>0.317580</td>\n",
       "      <td>NaN</td>\n",
       "      <td>0.278544</td>\n",
       "      <td>1.277939</td>\n",
       "      <td>0.851602</td>\n",
       "    </tr>\n",
       "    <tr>\n",
       "      <th>2014-01-06</th>\n",
       "      <td>NaN</td>\n",
       "      <td>0.384083</td>\n",
       "      <td>1.171115</td>\n",
       "      <td>0.178264</td>\n",
       "      <td>0.890322</td>\n",
       "    </tr>\n",
       "    <tr>\n",
       "      <th>2014-01-07</th>\n",
       "      <td>NaN</td>\n",
       "      <td>1.279846</td>\n",
       "      <td>0.366732</td>\n",
       "      <td>0.312770</td>\n",
       "      <td>1.189220</td>\n",
       "    </tr>\n",
       "  </tbody>\n",
       "</table>\n",
       "</div>"
      ],
      "text/plain": [
       "                   A         B         C         D         E\n",
       "2014-01-01  0.133222  0.993206  0.811738       NaN  1.242530\n",
       "2014-01-02  0.279083  0.123263  0.910211  1.348878       NaN\n",
       "2014-01-03       NaN       NaN  0.127352  0.999843       NaN\n",
       "2014-01-04  1.043411       NaN       NaN       NaN       NaN\n",
       "2014-01-05  0.317580       NaN  0.278544  1.277939  0.851602\n",
       "2014-01-06       NaN  0.384083  1.171115  0.178264  0.890322\n",
       "2014-01-07       NaN  1.279846  0.366732  0.312770  1.189220"
      ]
     },
     "execution_count": 41,
     "metadata": {},
     "output_type": "execute_result"
    }
   ],
   "source": [
    "df[df>0]"
   ]
  },
  {
   "cell_type": "code",
   "execution_count": 42,
   "metadata": {
    "collapsed": true
   },
   "outputs": [],
   "source": [
    "df2 = df.copy()"
   ]
  },
  {
   "cell_type": "code",
   "execution_count": 43,
   "metadata": {
    "collapsed": true
   },
   "outputs": [],
   "source": [
    "df2['F'] = ['one', 'one','two','three','four','three','five']"
   ]
  },
  {
   "cell_type": "code",
   "execution_count": 44,
   "metadata": {
    "collapsed": false
   },
   "outputs": [
    {
     "data": {
      "text/html": [
       "<div>\n",
       "<table border=\"1\" class=\"dataframe\">\n",
       "  <thead>\n",
       "    <tr style=\"text-align: right;\">\n",
       "      <th></th>\n",
       "      <th>A</th>\n",
       "      <th>B</th>\n",
       "      <th>C</th>\n",
       "      <th>D</th>\n",
       "      <th>E</th>\n",
       "      <th>F</th>\n",
       "    </tr>\n",
       "  </thead>\n",
       "  <tbody>\n",
       "    <tr>\n",
       "      <th>2014-01-01</th>\n",
       "      <td>0.133222</td>\n",
       "      <td>0.993206</td>\n",
       "      <td>0.811738</td>\n",
       "      <td>-0.167453</td>\n",
       "      <td>1.242530</td>\n",
       "      <td>one</td>\n",
       "    </tr>\n",
       "    <tr>\n",
       "      <th>2014-01-02</th>\n",
       "      <td>0.279083</td>\n",
       "      <td>0.123263</td>\n",
       "      <td>0.910211</td>\n",
       "      <td>1.348878</td>\n",
       "      <td>-0.106072</td>\n",
       "      <td>one</td>\n",
       "    </tr>\n",
       "    <tr>\n",
       "      <th>2014-01-03</th>\n",
       "      <td>-1.079354</td>\n",
       "      <td>-1.332392</td>\n",
       "      <td>0.127352</td>\n",
       "      <td>0.999843</td>\n",
       "      <td>-2.814144</td>\n",
       "      <td>two</td>\n",
       "    </tr>\n",
       "    <tr>\n",
       "      <th>2014-01-04</th>\n",
       "      <td>1.043411</td>\n",
       "      <td>-2.247744</td>\n",
       "      <td>-0.912747</td>\n",
       "      <td>-0.234791</td>\n",
       "      <td>-0.993684</td>\n",
       "      <td>three</td>\n",
       "    </tr>\n",
       "    <tr>\n",
       "      <th>2014-01-05</th>\n",
       "      <td>0.317580</td>\n",
       "      <td>-1.007552</td>\n",
       "      <td>0.278544</td>\n",
       "      <td>1.277939</td>\n",
       "      <td>0.851602</td>\n",
       "      <td>four</td>\n",
       "    </tr>\n",
       "    <tr>\n",
       "      <th>2014-01-06</th>\n",
       "      <td>-1.115315</td>\n",
       "      <td>0.384083</td>\n",
       "      <td>1.171115</td>\n",
       "      <td>0.178264</td>\n",
       "      <td>0.890322</td>\n",
       "      <td>three</td>\n",
       "    </tr>\n",
       "    <tr>\n",
       "      <th>2014-01-07</th>\n",
       "      <td>-0.714889</td>\n",
       "      <td>1.279846</td>\n",
       "      <td>0.366732</td>\n",
       "      <td>0.312770</td>\n",
       "      <td>1.189220</td>\n",
       "      <td>five</td>\n",
       "    </tr>\n",
       "  </tbody>\n",
       "</table>\n",
       "</div>"
      ],
      "text/plain": [
       "                   A         B         C         D         E      F\n",
       "2014-01-01  0.133222  0.993206  0.811738 -0.167453  1.242530    one\n",
       "2014-01-02  0.279083  0.123263  0.910211  1.348878 -0.106072    one\n",
       "2014-01-03 -1.079354 -1.332392  0.127352  0.999843 -2.814144    two\n",
       "2014-01-04  1.043411 -2.247744 -0.912747 -0.234791 -0.993684  three\n",
       "2014-01-05  0.317580 -1.007552  0.278544  1.277939  0.851602   four\n",
       "2014-01-06 -1.115315  0.384083  1.171115  0.178264  0.890322  three\n",
       "2014-01-07 -0.714889  1.279846  0.366732  0.312770  1.189220   five"
      ]
     },
     "execution_count": 44,
     "metadata": {},
     "output_type": "execute_result"
    }
   ],
   "source": [
    "df2"
   ]
  },
  {
   "cell_type": "code",
   "execution_count": 46,
   "metadata": {
    "collapsed": false
   },
   "outputs": [
    {
     "data": {
      "text/html": [
       "<div>\n",
       "<table border=\"1\" class=\"dataframe\">\n",
       "  <thead>\n",
       "    <tr style=\"text-align: right;\">\n",
       "      <th></th>\n",
       "      <th>A</th>\n",
       "      <th>B</th>\n",
       "      <th>C</th>\n",
       "      <th>D</th>\n",
       "      <th>E</th>\n",
       "      <th>F</th>\n",
       "    </tr>\n",
       "  </thead>\n",
       "  <tbody>\n",
       "    <tr>\n",
       "      <th>2014-01-03</th>\n",
       "      <td>-1.079354</td>\n",
       "      <td>-1.332392</td>\n",
       "      <td>0.127352</td>\n",
       "      <td>0.999843</td>\n",
       "      <td>-2.814144</td>\n",
       "      <td>two</td>\n",
       "    </tr>\n",
       "    <tr>\n",
       "      <th>2014-01-05</th>\n",
       "      <td>0.317580</td>\n",
       "      <td>-1.007552</td>\n",
       "      <td>0.278544</td>\n",
       "      <td>1.277939</td>\n",
       "      <td>0.851602</td>\n",
       "      <td>four</td>\n",
       "    </tr>\n",
       "  </tbody>\n",
       "</table>\n",
       "</div>"
      ],
      "text/plain": [
       "                   A         B         C         D         E     F\n",
       "2014-01-03 -1.079354 -1.332392  0.127352  0.999843 -2.814144   two\n",
       "2014-01-05  0.317580 -1.007552  0.278544  1.277939  0.851602  four"
      ]
     },
     "execution_count": 46,
     "metadata": {},
     "output_type": "execute_result"
    }
   ],
   "source": [
    "df2[df2.F.isin(['two','four'])]"
   ]
  },
  {
   "cell_type": "code",
   "execution_count": 47,
   "metadata": {
    "collapsed": true
   },
   "outputs": [],
   "source": [
    "s1 = pd.Series([1,2,3,4,5,6,7], index=pd.date_range('20140102', periods=7))"
   ]
  },
  {
   "cell_type": "code",
   "execution_count": 49,
   "metadata": {
    "collapsed": false
   },
   "outputs": [],
   "source": [
    "df['F'] = s1"
   ]
  },
  {
   "cell_type": "code",
   "execution_count": 52,
   "metadata": {
    "collapsed": true
   },
   "outputs": [],
   "source": [
    "df.at[dates[2], 'F'] = 18"
   ]
  },
  {
   "cell_type": "code",
   "execution_count": 53,
   "metadata": {
    "collapsed": false
   },
   "outputs": [
    {
     "data": {
      "text/html": [
       "<div>\n",
       "<table border=\"1\" class=\"dataframe\">\n",
       "  <thead>\n",
       "    <tr style=\"text-align: right;\">\n",
       "      <th></th>\n",
       "      <th>A</th>\n",
       "      <th>B</th>\n",
       "      <th>C</th>\n",
       "      <th>D</th>\n",
       "      <th>E</th>\n",
       "      <th>F</th>\n",
       "    </tr>\n",
       "  </thead>\n",
       "  <tbody>\n",
       "    <tr>\n",
       "      <th>2014-01-01</th>\n",
       "      <td>0.133222</td>\n",
       "      <td>0.993206</td>\n",
       "      <td>0.811738</td>\n",
       "      <td>-0.167453</td>\n",
       "      <td>1.242530</td>\n",
       "      <td>NaN</td>\n",
       "    </tr>\n",
       "    <tr>\n",
       "      <th>2014-01-02</th>\n",
       "      <td>0.279083</td>\n",
       "      <td>0.123263</td>\n",
       "      <td>0.910211</td>\n",
       "      <td>1.348878</td>\n",
       "      <td>-0.106072</td>\n",
       "      <td>1.0</td>\n",
       "    </tr>\n",
       "    <tr>\n",
       "      <th>2014-01-03</th>\n",
       "      <td>-1.079354</td>\n",
       "      <td>-1.332392</td>\n",
       "      <td>0.127352</td>\n",
       "      <td>0.999843</td>\n",
       "      <td>-2.814144</td>\n",
       "      <td>18.0</td>\n",
       "    </tr>\n",
       "    <tr>\n",
       "      <th>2014-01-04</th>\n",
       "      <td>1.043411</td>\n",
       "      <td>-2.247744</td>\n",
       "      <td>-0.912747</td>\n",
       "      <td>-0.234791</td>\n",
       "      <td>-0.993684</td>\n",
       "      <td>3.0</td>\n",
       "    </tr>\n",
       "    <tr>\n",
       "      <th>2014-01-05</th>\n",
       "      <td>0.317580</td>\n",
       "      <td>-1.007552</td>\n",
       "      <td>0.278544</td>\n",
       "      <td>1.277939</td>\n",
       "      <td>0.851602</td>\n",
       "      <td>4.0</td>\n",
       "    </tr>\n",
       "    <tr>\n",
       "      <th>2014-01-06</th>\n",
       "      <td>-1.115315</td>\n",
       "      <td>0.384083</td>\n",
       "      <td>1.171115</td>\n",
       "      <td>0.178264</td>\n",
       "      <td>0.890322</td>\n",
       "      <td>5.0</td>\n",
       "    </tr>\n",
       "    <tr>\n",
       "      <th>2014-01-07</th>\n",
       "      <td>-0.714889</td>\n",
       "      <td>1.279846</td>\n",
       "      <td>0.366732</td>\n",
       "      <td>0.312770</td>\n",
       "      <td>1.189220</td>\n",
       "      <td>6.0</td>\n",
       "    </tr>\n",
       "  </tbody>\n",
       "</table>\n",
       "</div>"
      ],
      "text/plain": [
       "                   A         B         C         D         E     F\n",
       "2014-01-01  0.133222  0.993206  0.811738 -0.167453  1.242530   NaN\n",
       "2014-01-02  0.279083  0.123263  0.910211  1.348878 -0.106072   1.0\n",
       "2014-01-03 -1.079354 -1.332392  0.127352  0.999843 -2.814144  18.0\n",
       "2014-01-04  1.043411 -2.247744 -0.912747 -0.234791 -0.993684   3.0\n",
       "2014-01-05  0.317580 -1.007552  0.278544  1.277939  0.851602   4.0\n",
       "2014-01-06 -1.115315  0.384083  1.171115  0.178264  0.890322   5.0\n",
       "2014-01-07 -0.714889  1.279846  0.366732  0.312770  1.189220   6.0"
      ]
     },
     "execution_count": 53,
     "metadata": {},
     "output_type": "execute_result"
    }
   ],
   "source": [
    "df"
   ]
  },
  {
   "cell_type": "code",
   "execution_count": 54,
   "metadata": {
    "collapsed": true
   },
   "outputs": [],
   "source": [
    "df.iat[0,1] = 0"
   ]
  },
  {
   "cell_type": "code",
   "execution_count": 55,
   "metadata": {
    "collapsed": false
   },
   "outputs": [
    {
     "data": {
      "text/html": [
       "<div>\n",
       "<table border=\"1\" class=\"dataframe\">\n",
       "  <thead>\n",
       "    <tr style=\"text-align: right;\">\n",
       "      <th></th>\n",
       "      <th>A</th>\n",
       "      <th>B</th>\n",
       "      <th>C</th>\n",
       "      <th>D</th>\n",
       "      <th>E</th>\n",
       "      <th>F</th>\n",
       "    </tr>\n",
       "  </thead>\n",
       "  <tbody>\n",
       "    <tr>\n",
       "      <th>2014-01-01</th>\n",
       "      <td>0.133222</td>\n",
       "      <td>0.000000</td>\n",
       "      <td>0.811738</td>\n",
       "      <td>-0.167453</td>\n",
       "      <td>1.242530</td>\n",
       "      <td>NaN</td>\n",
       "    </tr>\n",
       "    <tr>\n",
       "      <th>2014-01-02</th>\n",
       "      <td>0.279083</td>\n",
       "      <td>0.123263</td>\n",
       "      <td>0.910211</td>\n",
       "      <td>1.348878</td>\n",
       "      <td>-0.106072</td>\n",
       "      <td>1.0</td>\n",
       "    </tr>\n",
       "    <tr>\n",
       "      <th>2014-01-03</th>\n",
       "      <td>-1.079354</td>\n",
       "      <td>-1.332392</td>\n",
       "      <td>0.127352</td>\n",
       "      <td>0.999843</td>\n",
       "      <td>-2.814144</td>\n",
       "      <td>18.0</td>\n",
       "    </tr>\n",
       "    <tr>\n",
       "      <th>2014-01-04</th>\n",
       "      <td>1.043411</td>\n",
       "      <td>-2.247744</td>\n",
       "      <td>-0.912747</td>\n",
       "      <td>-0.234791</td>\n",
       "      <td>-0.993684</td>\n",
       "      <td>3.0</td>\n",
       "    </tr>\n",
       "    <tr>\n",
       "      <th>2014-01-05</th>\n",
       "      <td>0.317580</td>\n",
       "      <td>-1.007552</td>\n",
       "      <td>0.278544</td>\n",
       "      <td>1.277939</td>\n",
       "      <td>0.851602</td>\n",
       "      <td>4.0</td>\n",
       "    </tr>\n",
       "    <tr>\n",
       "      <th>2014-01-06</th>\n",
       "      <td>-1.115315</td>\n",
       "      <td>0.384083</td>\n",
       "      <td>1.171115</td>\n",
       "      <td>0.178264</td>\n",
       "      <td>0.890322</td>\n",
       "      <td>5.0</td>\n",
       "    </tr>\n",
       "    <tr>\n",
       "      <th>2014-01-07</th>\n",
       "      <td>-0.714889</td>\n",
       "      <td>1.279846</td>\n",
       "      <td>0.366732</td>\n",
       "      <td>0.312770</td>\n",
       "      <td>1.189220</td>\n",
       "      <td>6.0</td>\n",
       "    </tr>\n",
       "  </tbody>\n",
       "</table>\n",
       "</div>"
      ],
      "text/plain": [
       "                   A         B         C         D         E     F\n",
       "2014-01-01  0.133222  0.000000  0.811738 -0.167453  1.242530   NaN\n",
       "2014-01-02  0.279083  0.123263  0.910211  1.348878 -0.106072   1.0\n",
       "2014-01-03 -1.079354 -1.332392  0.127352  0.999843 -2.814144  18.0\n",
       "2014-01-04  1.043411 -2.247744 -0.912747 -0.234791 -0.993684   3.0\n",
       "2014-01-05  0.317580 -1.007552  0.278544  1.277939  0.851602   4.0\n",
       "2014-01-06 -1.115315  0.384083  1.171115  0.178264  0.890322   5.0\n",
       "2014-01-07 -0.714889  1.279846  0.366732  0.312770  1.189220   6.0"
      ]
     },
     "execution_count": 55,
     "metadata": {},
     "output_type": "execute_result"
    }
   ],
   "source": [
    "df"
   ]
  },
  {
   "cell_type": "code",
   "execution_count": 56,
   "metadata": {
    "collapsed": true
   },
   "outputs": [],
   "source": [
    "df.loc[:, 'F'] = np.array([6]*len(df))"
   ]
  },
  {
   "cell_type": "code",
   "execution_count": 57,
   "metadata": {
    "collapsed": false
   },
   "outputs": [
    {
     "data": {
      "text/html": [
       "<div>\n",
       "<table border=\"1\" class=\"dataframe\">\n",
       "  <thead>\n",
       "    <tr style=\"text-align: right;\">\n",
       "      <th></th>\n",
       "      <th>A</th>\n",
       "      <th>B</th>\n",
       "      <th>C</th>\n",
       "      <th>D</th>\n",
       "      <th>E</th>\n",
       "      <th>F</th>\n",
       "    </tr>\n",
       "  </thead>\n",
       "  <tbody>\n",
       "    <tr>\n",
       "      <th>2014-01-01</th>\n",
       "      <td>0.133222</td>\n",
       "      <td>0.000000</td>\n",
       "      <td>0.811738</td>\n",
       "      <td>-0.167453</td>\n",
       "      <td>1.242530</td>\n",
       "      <td>6</td>\n",
       "    </tr>\n",
       "    <tr>\n",
       "      <th>2014-01-02</th>\n",
       "      <td>0.279083</td>\n",
       "      <td>0.123263</td>\n",
       "      <td>0.910211</td>\n",
       "      <td>1.348878</td>\n",
       "      <td>-0.106072</td>\n",
       "      <td>6</td>\n",
       "    </tr>\n",
       "    <tr>\n",
       "      <th>2014-01-03</th>\n",
       "      <td>-1.079354</td>\n",
       "      <td>-1.332392</td>\n",
       "      <td>0.127352</td>\n",
       "      <td>0.999843</td>\n",
       "      <td>-2.814144</td>\n",
       "      <td>6</td>\n",
       "    </tr>\n",
       "    <tr>\n",
       "      <th>2014-01-04</th>\n",
       "      <td>1.043411</td>\n",
       "      <td>-2.247744</td>\n",
       "      <td>-0.912747</td>\n",
       "      <td>-0.234791</td>\n",
       "      <td>-0.993684</td>\n",
       "      <td>6</td>\n",
       "    </tr>\n",
       "    <tr>\n",
       "      <th>2014-01-05</th>\n",
       "      <td>0.317580</td>\n",
       "      <td>-1.007552</td>\n",
       "      <td>0.278544</td>\n",
       "      <td>1.277939</td>\n",
       "      <td>0.851602</td>\n",
       "      <td>6</td>\n",
       "    </tr>\n",
       "    <tr>\n",
       "      <th>2014-01-06</th>\n",
       "      <td>-1.115315</td>\n",
       "      <td>0.384083</td>\n",
       "      <td>1.171115</td>\n",
       "      <td>0.178264</td>\n",
       "      <td>0.890322</td>\n",
       "      <td>6</td>\n",
       "    </tr>\n",
       "    <tr>\n",
       "      <th>2014-01-07</th>\n",
       "      <td>-0.714889</td>\n",
       "      <td>1.279846</td>\n",
       "      <td>0.366732</td>\n",
       "      <td>0.312770</td>\n",
       "      <td>1.189220</td>\n",
       "      <td>6</td>\n",
       "    </tr>\n",
       "  </tbody>\n",
       "</table>\n",
       "</div>"
      ],
      "text/plain": [
       "                   A         B         C         D         E  F\n",
       "2014-01-01  0.133222  0.000000  0.811738 -0.167453  1.242530  6\n",
       "2014-01-02  0.279083  0.123263  0.910211  1.348878 -0.106072  6\n",
       "2014-01-03 -1.079354 -1.332392  0.127352  0.999843 -2.814144  6\n",
       "2014-01-04  1.043411 -2.247744 -0.912747 -0.234791 -0.993684  6\n",
       "2014-01-05  0.317580 -1.007552  0.278544  1.277939  0.851602  6\n",
       "2014-01-06 -1.115315  0.384083  1.171115  0.178264  0.890322  6\n",
       "2014-01-07 -0.714889  1.279846  0.366732  0.312770  1.189220  6"
      ]
     },
     "execution_count": 57,
     "metadata": {},
     "output_type": "execute_result"
    }
   ],
   "source": [
    "df"
   ]
  },
  {
   "cell_type": "code",
   "execution_count": 59,
   "metadata": {
    "collapsed": false
   },
   "outputs": [],
   "source": [
    "df2 = df.copy()\n",
    "df2[df2 > 0] = -df2"
   ]
  },
  {
   "cell_type": "code",
   "execution_count": 60,
   "metadata": {
    "collapsed": false
   },
   "outputs": [
    {
     "data": {
      "text/html": [
       "<div>\n",
       "<table border=\"1\" class=\"dataframe\">\n",
       "  <thead>\n",
       "    <tr style=\"text-align: right;\">\n",
       "      <th></th>\n",
       "      <th>A</th>\n",
       "      <th>B</th>\n",
       "      <th>C</th>\n",
       "      <th>D</th>\n",
       "      <th>E</th>\n",
       "      <th>F</th>\n",
       "    </tr>\n",
       "  </thead>\n",
       "  <tbody>\n",
       "    <tr>\n",
       "      <th>2014-01-01</th>\n",
       "      <td>-0.133222</td>\n",
       "      <td>0.000000</td>\n",
       "      <td>-0.811738</td>\n",
       "      <td>-0.167453</td>\n",
       "      <td>-1.242530</td>\n",
       "      <td>-6</td>\n",
       "    </tr>\n",
       "    <tr>\n",
       "      <th>2014-01-02</th>\n",
       "      <td>-0.279083</td>\n",
       "      <td>-0.123263</td>\n",
       "      <td>-0.910211</td>\n",
       "      <td>-1.348878</td>\n",
       "      <td>-0.106072</td>\n",
       "      <td>-6</td>\n",
       "    </tr>\n",
       "    <tr>\n",
       "      <th>2014-01-03</th>\n",
       "      <td>-1.079354</td>\n",
       "      <td>-1.332392</td>\n",
       "      <td>-0.127352</td>\n",
       "      <td>-0.999843</td>\n",
       "      <td>-2.814144</td>\n",
       "      <td>-6</td>\n",
       "    </tr>\n",
       "    <tr>\n",
       "      <th>2014-01-04</th>\n",
       "      <td>-1.043411</td>\n",
       "      <td>-2.247744</td>\n",
       "      <td>-0.912747</td>\n",
       "      <td>-0.234791</td>\n",
       "      <td>-0.993684</td>\n",
       "      <td>-6</td>\n",
       "    </tr>\n",
       "    <tr>\n",
       "      <th>2014-01-05</th>\n",
       "      <td>-0.317580</td>\n",
       "      <td>-1.007552</td>\n",
       "      <td>-0.278544</td>\n",
       "      <td>-1.277939</td>\n",
       "      <td>-0.851602</td>\n",
       "      <td>-6</td>\n",
       "    </tr>\n",
       "    <tr>\n",
       "      <th>2014-01-06</th>\n",
       "      <td>-1.115315</td>\n",
       "      <td>-0.384083</td>\n",
       "      <td>-1.171115</td>\n",
       "      <td>-0.178264</td>\n",
       "      <td>-0.890322</td>\n",
       "      <td>-6</td>\n",
       "    </tr>\n",
       "    <tr>\n",
       "      <th>2014-01-07</th>\n",
       "      <td>-0.714889</td>\n",
       "      <td>-1.279846</td>\n",
       "      <td>-0.366732</td>\n",
       "      <td>-0.312770</td>\n",
       "      <td>-1.189220</td>\n",
       "      <td>-6</td>\n",
       "    </tr>\n",
       "  </tbody>\n",
       "</table>\n",
       "</div>"
      ],
      "text/plain": [
       "                   A         B         C         D         E  F\n",
       "2014-01-01 -0.133222  0.000000 -0.811738 -0.167453 -1.242530 -6\n",
       "2014-01-02 -0.279083 -0.123263 -0.910211 -1.348878 -0.106072 -6\n",
       "2014-01-03 -1.079354 -1.332392 -0.127352 -0.999843 -2.814144 -6\n",
       "2014-01-04 -1.043411 -2.247744 -0.912747 -0.234791 -0.993684 -6\n",
       "2014-01-05 -0.317580 -1.007552 -0.278544 -1.277939 -0.851602 -6\n",
       "2014-01-06 -1.115315 -0.384083 -1.171115 -0.178264 -0.890322 -6\n",
       "2014-01-07 -0.714889 -1.279846 -0.366732 -0.312770 -1.189220 -6"
      ]
     },
     "execution_count": 60,
     "metadata": {},
     "output_type": "execute_result"
    }
   ],
   "source": [
    "df2"
   ]
  },
  {
   "cell_type": "code",
   "execution_count": 61,
   "metadata": {
    "collapsed": true
   },
   "outputs": [],
   "source": [
    "df1 = df.reindex(index=dates[0:5], columns=list(df.columns) + ['G'])\n"
   ]
  },
  {
   "cell_type": "code",
   "execution_count": 62,
   "metadata": {
    "collapsed": false
   },
   "outputs": [
    {
     "data": {
      "text/html": [
       "<div>\n",
       "<table border=\"1\" class=\"dataframe\">\n",
       "  <thead>\n",
       "    <tr style=\"text-align: right;\">\n",
       "      <th></th>\n",
       "      <th>A</th>\n",
       "      <th>B</th>\n",
       "      <th>C</th>\n",
       "      <th>D</th>\n",
       "      <th>E</th>\n",
       "      <th>F</th>\n",
       "      <th>G</th>\n",
       "    </tr>\n",
       "  </thead>\n",
       "  <tbody>\n",
       "    <tr>\n",
       "      <th>2014-01-01</th>\n",
       "      <td>0.133222</td>\n",
       "      <td>0.000000</td>\n",
       "      <td>0.811738</td>\n",
       "      <td>-0.167453</td>\n",
       "      <td>1.242530</td>\n",
       "      <td>6</td>\n",
       "      <td>NaN</td>\n",
       "    </tr>\n",
       "    <tr>\n",
       "      <th>2014-01-02</th>\n",
       "      <td>0.279083</td>\n",
       "      <td>0.123263</td>\n",
       "      <td>0.910211</td>\n",
       "      <td>1.348878</td>\n",
       "      <td>-0.106072</td>\n",
       "      <td>6</td>\n",
       "      <td>NaN</td>\n",
       "    </tr>\n",
       "    <tr>\n",
       "      <th>2014-01-03</th>\n",
       "      <td>-1.079354</td>\n",
       "      <td>-1.332392</td>\n",
       "      <td>0.127352</td>\n",
       "      <td>0.999843</td>\n",
       "      <td>-2.814144</td>\n",
       "      <td>6</td>\n",
       "      <td>NaN</td>\n",
       "    </tr>\n",
       "    <tr>\n",
       "      <th>2014-01-04</th>\n",
       "      <td>1.043411</td>\n",
       "      <td>-2.247744</td>\n",
       "      <td>-0.912747</td>\n",
       "      <td>-0.234791</td>\n",
       "      <td>-0.993684</td>\n",
       "      <td>6</td>\n",
       "      <td>NaN</td>\n",
       "    </tr>\n",
       "    <tr>\n",
       "      <th>2014-01-05</th>\n",
       "      <td>0.317580</td>\n",
       "      <td>-1.007552</td>\n",
       "      <td>0.278544</td>\n",
       "      <td>1.277939</td>\n",
       "      <td>0.851602</td>\n",
       "      <td>6</td>\n",
       "      <td>NaN</td>\n",
       "    </tr>\n",
       "  </tbody>\n",
       "</table>\n",
       "</div>"
      ],
      "text/plain": [
       "                   A         B         C         D         E  F   G\n",
       "2014-01-01  0.133222  0.000000  0.811738 -0.167453  1.242530  6 NaN\n",
       "2014-01-02  0.279083  0.123263  0.910211  1.348878 -0.106072  6 NaN\n",
       "2014-01-03 -1.079354 -1.332392  0.127352  0.999843 -2.814144  6 NaN\n",
       "2014-01-04  1.043411 -2.247744 -0.912747 -0.234791 -0.993684  6 NaN\n",
       "2014-01-05  0.317580 -1.007552  0.278544  1.277939  0.851602  6 NaN"
      ]
     },
     "execution_count": 62,
     "metadata": {},
     "output_type": "execute_result"
    }
   ],
   "source": [
    "df1"
   ]
  },
  {
   "cell_type": "code",
   "execution_count": 66,
   "metadata": {
    "collapsed": false
   },
   "outputs": [],
   "source": [
    "df1.iloc[0:2, 6] = 1"
   ]
  },
  {
   "cell_type": "code",
   "execution_count": 67,
   "metadata": {
    "collapsed": false
   },
   "outputs": [
    {
     "data": {
      "text/html": [
       "<div>\n",
       "<table border=\"1\" class=\"dataframe\">\n",
       "  <thead>\n",
       "    <tr style=\"text-align: right;\">\n",
       "      <th></th>\n",
       "      <th>A</th>\n",
       "      <th>B</th>\n",
       "      <th>C</th>\n",
       "      <th>D</th>\n",
       "      <th>E</th>\n",
       "      <th>F</th>\n",
       "      <th>G</th>\n",
       "    </tr>\n",
       "  </thead>\n",
       "  <tbody>\n",
       "    <tr>\n",
       "      <th>2014-01-01</th>\n",
       "      <td>0.133222</td>\n",
       "      <td>0.000000</td>\n",
       "      <td>0.811738</td>\n",
       "      <td>-0.167453</td>\n",
       "      <td>1.242530</td>\n",
       "      <td>6</td>\n",
       "      <td>1.0</td>\n",
       "    </tr>\n",
       "    <tr>\n",
       "      <th>2014-01-02</th>\n",
       "      <td>0.279083</td>\n",
       "      <td>0.123263</td>\n",
       "      <td>0.910211</td>\n",
       "      <td>1.348878</td>\n",
       "      <td>-0.106072</td>\n",
       "      <td>6</td>\n",
       "      <td>1.0</td>\n",
       "    </tr>\n",
       "    <tr>\n",
       "      <th>2014-01-03</th>\n",
       "      <td>-1.079354</td>\n",
       "      <td>-1.332392</td>\n",
       "      <td>0.127352</td>\n",
       "      <td>0.999843</td>\n",
       "      <td>-2.814144</td>\n",
       "      <td>6</td>\n",
       "      <td>NaN</td>\n",
       "    </tr>\n",
       "    <tr>\n",
       "      <th>2014-01-04</th>\n",
       "      <td>1.043411</td>\n",
       "      <td>-2.247744</td>\n",
       "      <td>-0.912747</td>\n",
       "      <td>-0.234791</td>\n",
       "      <td>-0.993684</td>\n",
       "      <td>6</td>\n",
       "      <td>NaN</td>\n",
       "    </tr>\n",
       "    <tr>\n",
       "      <th>2014-01-05</th>\n",
       "      <td>0.317580</td>\n",
       "      <td>-1.007552</td>\n",
       "      <td>0.278544</td>\n",
       "      <td>1.277939</td>\n",
       "      <td>0.851602</td>\n",
       "      <td>6</td>\n",
       "      <td>NaN</td>\n",
       "    </tr>\n",
       "  </tbody>\n",
       "</table>\n",
       "</div>"
      ],
      "text/plain": [
       "                   A         B         C         D         E  F    G\n",
       "2014-01-01  0.133222  0.000000  0.811738 -0.167453  1.242530  6  1.0\n",
       "2014-01-02  0.279083  0.123263  0.910211  1.348878 -0.106072  6  1.0\n",
       "2014-01-03 -1.079354 -1.332392  0.127352  0.999843 -2.814144  6  NaN\n",
       "2014-01-04  1.043411 -2.247744 -0.912747 -0.234791 -0.993684  6  NaN\n",
       "2014-01-05  0.317580 -1.007552  0.278544  1.277939  0.851602  6  NaN"
      ]
     },
     "execution_count": 67,
     "metadata": {},
     "output_type": "execute_result"
    }
   ],
   "source": [
    "df1"
   ]
  },
  {
   "cell_type": "code",
   "execution_count": 68,
   "metadata": {
    "collapsed": false
   },
   "outputs": [
    {
     "data": {
      "text/html": [
       "<div>\n",
       "<table border=\"1\" class=\"dataframe\">\n",
       "  <thead>\n",
       "    <tr style=\"text-align: right;\">\n",
       "      <th></th>\n",
       "      <th>A</th>\n",
       "      <th>B</th>\n",
       "      <th>C</th>\n",
       "      <th>D</th>\n",
       "      <th>E</th>\n",
       "      <th>F</th>\n",
       "      <th>G</th>\n",
       "    </tr>\n",
       "  </thead>\n",
       "  <tbody>\n",
       "    <tr>\n",
       "      <th>2014-01-01</th>\n",
       "      <td>0.133222</td>\n",
       "      <td>0.000000</td>\n",
       "      <td>0.811738</td>\n",
       "      <td>-0.167453</td>\n",
       "      <td>1.242530</td>\n",
       "      <td>6</td>\n",
       "      <td>1.0</td>\n",
       "    </tr>\n",
       "    <tr>\n",
       "      <th>2014-01-02</th>\n",
       "      <td>0.279083</td>\n",
       "      <td>0.123263</td>\n",
       "      <td>0.910211</td>\n",
       "      <td>1.348878</td>\n",
       "      <td>-0.106072</td>\n",
       "      <td>6</td>\n",
       "      <td>1.0</td>\n",
       "    </tr>\n",
       "  </tbody>\n",
       "</table>\n",
       "</div>"
      ],
      "text/plain": [
       "                   A         B         C         D         E  F    G\n",
       "2014-01-01  0.133222  0.000000  0.811738 -0.167453  1.242530  6  1.0\n",
       "2014-01-02  0.279083  0.123263  0.910211  1.348878 -0.106072  6  1.0"
      ]
     },
     "execution_count": 68,
     "metadata": {},
     "output_type": "execute_result"
    }
   ],
   "source": [
    "df1.dropna(how='any')"
   ]
  },
  {
   "cell_type": "code",
   "execution_count": 69,
   "metadata": {
    "collapsed": false
   },
   "outputs": [
    {
     "data": {
      "text/html": [
       "<div>\n",
       "<table border=\"1\" class=\"dataframe\">\n",
       "  <thead>\n",
       "    <tr style=\"text-align: right;\">\n",
       "      <th></th>\n",
       "      <th>A</th>\n",
       "      <th>B</th>\n",
       "      <th>C</th>\n",
       "      <th>D</th>\n",
       "      <th>E</th>\n",
       "      <th>F</th>\n",
       "      <th>G</th>\n",
       "    </tr>\n",
       "  </thead>\n",
       "  <tbody>\n",
       "    <tr>\n",
       "      <th>2014-01-01</th>\n",
       "      <td>0.133222</td>\n",
       "      <td>0.000000</td>\n",
       "      <td>0.811738</td>\n",
       "      <td>-0.167453</td>\n",
       "      <td>1.242530</td>\n",
       "      <td>6</td>\n",
       "      <td>1.0</td>\n",
       "    </tr>\n",
       "    <tr>\n",
       "      <th>2014-01-02</th>\n",
       "      <td>0.279083</td>\n",
       "      <td>0.123263</td>\n",
       "      <td>0.910211</td>\n",
       "      <td>1.348878</td>\n",
       "      <td>-0.106072</td>\n",
       "      <td>6</td>\n",
       "      <td>1.0</td>\n",
       "    </tr>\n",
       "    <tr>\n",
       "      <th>2014-01-03</th>\n",
       "      <td>-1.079354</td>\n",
       "      <td>-1.332392</td>\n",
       "      <td>0.127352</td>\n",
       "      <td>0.999843</td>\n",
       "      <td>-2.814144</td>\n",
       "      <td>6</td>\n",
       "      <td>8.0</td>\n",
       "    </tr>\n",
       "    <tr>\n",
       "      <th>2014-01-04</th>\n",
       "      <td>1.043411</td>\n",
       "      <td>-2.247744</td>\n",
       "      <td>-0.912747</td>\n",
       "      <td>-0.234791</td>\n",
       "      <td>-0.993684</td>\n",
       "      <td>6</td>\n",
       "      <td>8.0</td>\n",
       "    </tr>\n",
       "    <tr>\n",
       "      <th>2014-01-05</th>\n",
       "      <td>0.317580</td>\n",
       "      <td>-1.007552</td>\n",
       "      <td>0.278544</td>\n",
       "      <td>1.277939</td>\n",
       "      <td>0.851602</td>\n",
       "      <td>6</td>\n",
       "      <td>8.0</td>\n",
       "    </tr>\n",
       "  </tbody>\n",
       "</table>\n",
       "</div>"
      ],
      "text/plain": [
       "                   A         B         C         D         E  F    G\n",
       "2014-01-01  0.133222  0.000000  0.811738 -0.167453  1.242530  6  1.0\n",
       "2014-01-02  0.279083  0.123263  0.910211  1.348878 -0.106072  6  1.0\n",
       "2014-01-03 -1.079354 -1.332392  0.127352  0.999843 -2.814144  6  8.0\n",
       "2014-01-04  1.043411 -2.247744 -0.912747 -0.234791 -0.993684  6  8.0\n",
       "2014-01-05  0.317580 -1.007552  0.278544  1.277939  0.851602  6  8.0"
      ]
     },
     "execution_count": 69,
     "metadata": {},
     "output_type": "execute_result"
    }
   ],
   "source": [
    "df1.fillna(value=8)"
   ]
  },
  {
   "cell_type": "code",
   "execution_count": 70,
   "metadata": {
    "collapsed": false
   },
   "outputs": [
    {
     "data": {
      "text/html": [
       "<div>\n",
       "<table border=\"1\" class=\"dataframe\">\n",
       "  <thead>\n",
       "    <tr style=\"text-align: right;\">\n",
       "      <th></th>\n",
       "      <th>A</th>\n",
       "      <th>B</th>\n",
       "      <th>C</th>\n",
       "      <th>D</th>\n",
       "      <th>E</th>\n",
       "      <th>F</th>\n",
       "      <th>G</th>\n",
       "    </tr>\n",
       "  </thead>\n",
       "  <tbody>\n",
       "    <tr>\n",
       "      <th>2014-01-01</th>\n",
       "      <td>False</td>\n",
       "      <td>False</td>\n",
       "      <td>False</td>\n",
       "      <td>False</td>\n",
       "      <td>False</td>\n",
       "      <td>False</td>\n",
       "      <td>False</td>\n",
       "    </tr>\n",
       "    <tr>\n",
       "      <th>2014-01-02</th>\n",
       "      <td>False</td>\n",
       "      <td>False</td>\n",
       "      <td>False</td>\n",
       "      <td>False</td>\n",
       "      <td>False</td>\n",
       "      <td>False</td>\n",
       "      <td>False</td>\n",
       "    </tr>\n",
       "    <tr>\n",
       "      <th>2014-01-03</th>\n",
       "      <td>False</td>\n",
       "      <td>False</td>\n",
       "      <td>False</td>\n",
       "      <td>False</td>\n",
       "      <td>False</td>\n",
       "      <td>False</td>\n",
       "      <td>True</td>\n",
       "    </tr>\n",
       "    <tr>\n",
       "      <th>2014-01-04</th>\n",
       "      <td>False</td>\n",
       "      <td>False</td>\n",
       "      <td>False</td>\n",
       "      <td>False</td>\n",
       "      <td>False</td>\n",
       "      <td>False</td>\n",
       "      <td>True</td>\n",
       "    </tr>\n",
       "    <tr>\n",
       "      <th>2014-01-05</th>\n",
       "      <td>False</td>\n",
       "      <td>False</td>\n",
       "      <td>False</td>\n",
       "      <td>False</td>\n",
       "      <td>False</td>\n",
       "      <td>False</td>\n",
       "      <td>True</td>\n",
       "    </tr>\n",
       "  </tbody>\n",
       "</table>\n",
       "</div>"
      ],
      "text/plain": [
       "                A      B      C      D      E      F      G\n",
       "2014-01-01  False  False  False  False  False  False  False\n",
       "2014-01-02  False  False  False  False  False  False  False\n",
       "2014-01-03  False  False  False  False  False  False   True\n",
       "2014-01-04  False  False  False  False  False  False   True\n",
       "2014-01-05  False  False  False  False  False  False   True"
      ]
     },
     "execution_count": 70,
     "metadata": {},
     "output_type": "execute_result"
    }
   ],
   "source": [
    "pd.isnull(df1)"
   ]
  },
  {
   "cell_type": "code",
   "execution_count": 72,
   "metadata": {
    "collapsed": false
   },
   "outputs": [
    {
     "data": {
      "text/plain": [
       "2014-01-01    1.336673\n",
       "2014-01-02    1.425894\n",
       "2014-01-03    0.316884\n",
       "2014-01-04    0.442408\n",
       "2014-01-05    1.286352\n",
       "2014-01-06    1.251412\n",
       "2014-01-07    1.405613\n",
       "Freq: D, dtype: float64"
      ]
     },
     "execution_count": 72,
     "metadata": {},
     "output_type": "execute_result"
    }
   ],
   "source": [
    "df.mean()\n",
    "df.mean(1)"
   ]
  },
  {
   "cell_type": "code",
   "execution_count": 80,
   "metadata": {
    "collapsed": false
   },
   "outputs": [],
   "source": [
    "s = pd.Series([1,3,5,np.nan,6,8,9], index=dates).shift(2)\n"
   ]
  },
  {
   "cell_type": "code",
   "execution_count": 81,
   "metadata": {
    "collapsed": false
   },
   "outputs": [
    {
     "data": {
      "text/plain": [
       "2014-01-01    NaN\n",
       "2014-01-02    NaN\n",
       "2014-01-03    1.0\n",
       "2014-01-04    3.0\n",
       "2014-01-05    5.0\n",
       "2014-01-06    NaN\n",
       "2014-01-07    6.0\n",
       "Freq: D, dtype: float64"
      ]
     },
     "execution_count": 81,
     "metadata": {},
     "output_type": "execute_result"
    }
   ],
   "source": [
    "s"
   ]
  },
  {
   "cell_type": "code",
   "execution_count": 82,
   "metadata": {
    "collapsed": false
   },
   "outputs": [
    {
     "data": {
      "text/html": [
       "<div>\n",
       "<table border=\"1\" class=\"dataframe\">\n",
       "  <thead>\n",
       "    <tr style=\"text-align: right;\">\n",
       "      <th></th>\n",
       "      <th>A</th>\n",
       "      <th>B</th>\n",
       "      <th>C</th>\n",
       "      <th>D</th>\n",
       "      <th>E</th>\n",
       "      <th>F</th>\n",
       "    </tr>\n",
       "  </thead>\n",
       "  <tbody>\n",
       "    <tr>\n",
       "      <th>2014-01-01</th>\n",
       "      <td>0.133222</td>\n",
       "      <td>0.000000</td>\n",
       "      <td>0.811738</td>\n",
       "      <td>-0.167453</td>\n",
       "      <td>1.242530</td>\n",
       "      <td>6</td>\n",
       "    </tr>\n",
       "    <tr>\n",
       "      <th>2014-01-02</th>\n",
       "      <td>0.412306</td>\n",
       "      <td>0.123263</td>\n",
       "      <td>1.721949</td>\n",
       "      <td>1.181425</td>\n",
       "      <td>1.136458</td>\n",
       "      <td>12</td>\n",
       "    </tr>\n",
       "    <tr>\n",
       "      <th>2014-01-03</th>\n",
       "      <td>-0.667049</td>\n",
       "      <td>-1.209128</td>\n",
       "      <td>1.849301</td>\n",
       "      <td>2.181268</td>\n",
       "      <td>-1.677686</td>\n",
       "      <td>18</td>\n",
       "    </tr>\n",
       "    <tr>\n",
       "      <th>2014-01-04</th>\n",
       "      <td>0.376363</td>\n",
       "      <td>-3.456872</td>\n",
       "      <td>0.936554</td>\n",
       "      <td>1.946477</td>\n",
       "      <td>-2.671370</td>\n",
       "      <td>24</td>\n",
       "    </tr>\n",
       "    <tr>\n",
       "      <th>2014-01-05</th>\n",
       "      <td>0.693942</td>\n",
       "      <td>-4.464424</td>\n",
       "      <td>1.215098</td>\n",
       "      <td>3.224417</td>\n",
       "      <td>-1.819768</td>\n",
       "      <td>30</td>\n",
       "    </tr>\n",
       "    <tr>\n",
       "      <th>2014-01-06</th>\n",
       "      <td>-0.421373</td>\n",
       "      <td>-4.080341</td>\n",
       "      <td>2.386213</td>\n",
       "      <td>3.402681</td>\n",
       "      <td>-0.929446</td>\n",
       "      <td>36</td>\n",
       "    </tr>\n",
       "    <tr>\n",
       "      <th>2014-01-07</th>\n",
       "      <td>-1.136261</td>\n",
       "      <td>-2.800495</td>\n",
       "      <td>2.752946</td>\n",
       "      <td>3.715451</td>\n",
       "      <td>0.259774</td>\n",
       "      <td>42</td>\n",
       "    </tr>\n",
       "  </tbody>\n",
       "</table>\n",
       "</div>"
      ],
      "text/plain": [
       "                   A         B         C         D         E   F\n",
       "2014-01-01  0.133222  0.000000  0.811738 -0.167453  1.242530   6\n",
       "2014-01-02  0.412306  0.123263  1.721949  1.181425  1.136458  12\n",
       "2014-01-03 -0.667049 -1.209128  1.849301  2.181268 -1.677686  18\n",
       "2014-01-04  0.376363 -3.456872  0.936554  1.946477 -2.671370  24\n",
       "2014-01-05  0.693942 -4.464424  1.215098  3.224417 -1.819768  30\n",
       "2014-01-06 -0.421373 -4.080341  2.386213  3.402681 -0.929446  36\n",
       "2014-01-07 -1.136261 -2.800495  2.752946  3.715451  0.259774  42"
      ]
     },
     "execution_count": 82,
     "metadata": {},
     "output_type": "execute_result"
    }
   ],
   "source": [
    "df.apply(np.cumsum)"
   ]
  },
  {
   "cell_type": "code",
   "execution_count": 84,
   "metadata": {
    "collapsed": false
   },
   "outputs": [
    {
     "data": {
      "text/plain": [
       "A    0.133222\n",
       "B    0.000000\n",
       "C    0.811738\n",
       "D   -0.167453\n",
       "E    1.242530\n",
       "F    6.000000\n",
       "dtype: float64"
      ]
     },
     "execution_count": 84,
     "metadata": {},
     "output_type": "execute_result"
    }
   ],
   "source": [
    "df.apply(lambda x: x[0])"
   ]
  },
  {
   "cell_type": "code",
   "execution_count": 85,
   "metadata": {
    "collapsed": true
   },
   "outputs": [],
   "source": [
    " s = pd.Series(['A', 'B', 'C', 'Aaba', 'Baca', np.nan, 'CABA', 'dog', 'cat'])"
   ]
  },
  {
   "cell_type": "code",
   "execution_count": 86,
   "metadata": {
    "collapsed": false
   },
   "outputs": [
    {
     "data": {
      "text/plain": [
       "0       a\n",
       "1       b\n",
       "2       c\n",
       "3    aaba\n",
       "4    baca\n",
       "5     NaN\n",
       "6    caba\n",
       "7     dog\n",
       "8     cat\n",
       "dtype: object"
      ]
     },
     "execution_count": 86,
     "metadata": {},
     "output_type": "execute_result"
    }
   ],
   "source": [
    "s.str.lower()"
   ]
  },
  {
   "cell_type": "code",
   "execution_count": 87,
   "metadata": {
    "collapsed": true
   },
   "outputs": [],
   "source": [
    "df = pd.DataFrame(np.random.randn(10, 4))\n"
   ]
  },
  {
   "cell_type": "code",
   "execution_count": 89,
   "metadata": {
    "collapsed": false
   },
   "outputs": [],
   "source": [
    "right = pd.DataFrame({'key': ['foo', 'foo'], 'rval': [4, 5]})\n",
    "left = pd.DataFrame({'key': ['foo', 'foo'], 'lval': [1, 2]})"
   ]
  },
  {
   "cell_type": "code",
   "execution_count": 90,
   "metadata": {
    "collapsed": false
   },
   "outputs": [
    {
     "data": {
      "text/html": [
       "<div>\n",
       "<table border=\"1\" class=\"dataframe\">\n",
       "  <thead>\n",
       "    <tr style=\"text-align: right;\">\n",
       "      <th></th>\n",
       "      <th>key</th>\n",
       "      <th>rval</th>\n",
       "    </tr>\n",
       "  </thead>\n",
       "  <tbody>\n",
       "    <tr>\n",
       "      <th>0</th>\n",
       "      <td>foo</td>\n",
       "      <td>4</td>\n",
       "    </tr>\n",
       "    <tr>\n",
       "      <th>1</th>\n",
       "      <td>foo</td>\n",
       "      <td>5</td>\n",
       "    </tr>\n",
       "  </tbody>\n",
       "</table>\n",
       "</div>"
      ],
      "text/plain": [
       "   key  rval\n",
       "0  foo     4\n",
       "1  foo     5"
      ]
     },
     "execution_count": 90,
     "metadata": {},
     "output_type": "execute_result"
    }
   ],
   "source": [
    "right"
   ]
  },
  {
   "cell_type": "code",
   "execution_count": 91,
   "metadata": {
    "collapsed": false
   },
   "outputs": [
    {
     "data": {
      "text/html": [
       "<div>\n",
       "<table border=\"1\" class=\"dataframe\">\n",
       "  <thead>\n",
       "    <tr style=\"text-align: right;\">\n",
       "      <th></th>\n",
       "      <th>key</th>\n",
       "      <th>lval</th>\n",
       "    </tr>\n",
       "  </thead>\n",
       "  <tbody>\n",
       "    <tr>\n",
       "      <th>0</th>\n",
       "      <td>foo</td>\n",
       "      <td>1</td>\n",
       "    </tr>\n",
       "    <tr>\n",
       "      <th>1</th>\n",
       "      <td>foo</td>\n",
       "      <td>2</td>\n",
       "    </tr>\n",
       "  </tbody>\n",
       "</table>\n",
       "</div>"
      ],
      "text/plain": [
       "   key  lval\n",
       "0  foo     1\n",
       "1  foo     2"
      ]
     },
     "execution_count": 91,
     "metadata": {},
     "output_type": "execute_result"
    }
   ],
   "source": [
    "left"
   ]
  },
  {
   "cell_type": "code",
   "execution_count": 92,
   "metadata": {
    "collapsed": false
   },
   "outputs": [
    {
     "data": {
      "text/html": [
       "<div>\n",
       "<table border=\"1\" class=\"dataframe\">\n",
       "  <thead>\n",
       "    <tr style=\"text-align: right;\">\n",
       "      <th></th>\n",
       "      <th>key</th>\n",
       "      <th>lval</th>\n",
       "      <th>rval</th>\n",
       "    </tr>\n",
       "  </thead>\n",
       "  <tbody>\n",
       "    <tr>\n",
       "      <th>0</th>\n",
       "      <td>foo</td>\n",
       "      <td>1</td>\n",
       "      <td>4</td>\n",
       "    </tr>\n",
       "    <tr>\n",
       "      <th>1</th>\n",
       "      <td>foo</td>\n",
       "      <td>1</td>\n",
       "      <td>5</td>\n",
       "    </tr>\n",
       "    <tr>\n",
       "      <th>2</th>\n",
       "      <td>foo</td>\n",
       "      <td>2</td>\n",
       "      <td>4</td>\n",
       "    </tr>\n",
       "    <tr>\n",
       "      <th>3</th>\n",
       "      <td>foo</td>\n",
       "      <td>2</td>\n",
       "      <td>5</td>\n",
       "    </tr>\n",
       "  </tbody>\n",
       "</table>\n",
       "</div>"
      ],
      "text/plain": [
       "   key  lval  rval\n",
       "0  foo     1     4\n",
       "1  foo     1     5\n",
       "2  foo     2     4\n",
       "3  foo     2     5"
      ]
     },
     "execution_count": 92,
     "metadata": {},
     "output_type": "execute_result"
    }
   ],
   "source": [
    "pd.merge(left, right, on = 'key')"
   ]
  },
  {
   "cell_type": "code",
   "execution_count": 93,
   "metadata": {
    "collapsed": true
   },
   "outputs": [],
   "source": [
    "tuples = list(zip(*[['bar', 'bar', 'baz', 'baz',\n",
    "                     'foo', 'foo', 'qux', 'qux'],\n",
    "                   ['one', 'two', 'one', 'two',\n",
    "                     'one', 'two', 'one', 'two']]))\n",
    "   "
   ]
  },
  {
   "cell_type": "code",
   "execution_count": 94,
   "metadata": {
    "collapsed": false
   },
   "outputs": [
    {
     "data": {
      "text/plain": [
       "[('bar', 'one'),\n",
       " ('bar', 'two'),\n",
       " ('baz', 'one'),\n",
       " ('baz', 'two'),\n",
       " ('foo', 'one'),\n",
       " ('foo', 'two'),\n",
       " ('qux', 'one'),\n",
       " ('qux', 'two')]"
      ]
     },
     "execution_count": 94,
     "metadata": {},
     "output_type": "execute_result"
    }
   ],
   "source": [
    "tuples"
   ]
  },
  {
   "cell_type": "code",
   "execution_count": 95,
   "metadata": {
    "collapsed": true
   },
   "outputs": [],
   "source": [
    "index = pd.MultiIndex.from_tuples(tuples, names=['first', 'second'])\n"
   ]
  },
  {
   "cell_type": "code",
   "execution_count": 96,
   "metadata": {
    "collapsed": false
   },
   "outputs": [
    {
     "data": {
      "text/plain": [
       "MultiIndex(levels=[[u'bar', u'baz', u'foo', u'qux'], [u'one', u'two']],\n",
       "           labels=[[0, 0, 1, 1, 2, 2, 3, 3], [0, 1, 0, 1, 0, 1, 0, 1]],\n",
       "           names=[u'first', u'second'])"
      ]
     },
     "execution_count": 96,
     "metadata": {},
     "output_type": "execute_result"
    }
   ],
   "source": [
    "index"
   ]
  },
  {
   "cell_type": "code",
   "execution_count": 97,
   "metadata": {
    "collapsed": true
   },
   "outputs": [],
   "source": [
    "df = pd.DataFrame(np.random.randn(8, 2), index=index, columns=['A', 'B'])\n"
   ]
  },
  {
   "cell_type": "code",
   "execution_count": 98,
   "metadata": {
    "collapsed": false
   },
   "outputs": [
    {
     "data": {
      "text/html": [
       "<div>\n",
       "<table border=\"1\" class=\"dataframe\">\n",
       "  <thead>\n",
       "    <tr style=\"text-align: right;\">\n",
       "      <th></th>\n",
       "      <th></th>\n",
       "      <th>A</th>\n",
       "      <th>B</th>\n",
       "    </tr>\n",
       "    <tr>\n",
       "      <th>first</th>\n",
       "      <th>second</th>\n",
       "      <th></th>\n",
       "      <th></th>\n",
       "    </tr>\n",
       "  </thead>\n",
       "  <tbody>\n",
       "    <tr>\n",
       "      <th rowspan=\"2\" valign=\"top\">bar</th>\n",
       "      <th>one</th>\n",
       "      <td>0.311178</td>\n",
       "      <td>0.935184</td>\n",
       "    </tr>\n",
       "    <tr>\n",
       "      <th>two</th>\n",
       "      <td>1.343832</td>\n",
       "      <td>0.457127</td>\n",
       "    </tr>\n",
       "    <tr>\n",
       "      <th rowspan=\"2\" valign=\"top\">baz</th>\n",
       "      <th>one</th>\n",
       "      <td>0.062657</td>\n",
       "      <td>1.417083</td>\n",
       "    </tr>\n",
       "    <tr>\n",
       "      <th>two</th>\n",
       "      <td>-0.957578</td>\n",
       "      <td>0.003299</td>\n",
       "    </tr>\n",
       "    <tr>\n",
       "      <th rowspan=\"2\" valign=\"top\">foo</th>\n",
       "      <th>one</th>\n",
       "      <td>-1.269545</td>\n",
       "      <td>0.599105</td>\n",
       "    </tr>\n",
       "    <tr>\n",
       "      <th>two</th>\n",
       "      <td>-0.547873</td>\n",
       "      <td>0.133538</td>\n",
       "    </tr>\n",
       "    <tr>\n",
       "      <th rowspan=\"2\" valign=\"top\">qux</th>\n",
       "      <th>one</th>\n",
       "      <td>0.752954</td>\n",
       "      <td>0.283585</td>\n",
       "    </tr>\n",
       "    <tr>\n",
       "      <th>two</th>\n",
       "      <td>0.882863</td>\n",
       "      <td>-0.231251</td>\n",
       "    </tr>\n",
       "  </tbody>\n",
       "</table>\n",
       "</div>"
      ],
      "text/plain": [
       "                     A         B\n",
       "first second                    \n",
       "bar   one     0.311178  0.935184\n",
       "      two     1.343832  0.457127\n",
       "baz   one     0.062657  1.417083\n",
       "      two    -0.957578  0.003299\n",
       "foo   one    -1.269545  0.599105\n",
       "      two    -0.547873  0.133538\n",
       "qux   one     0.752954  0.283585\n",
       "      two     0.882863 -0.231251"
      ]
     },
     "execution_count": 98,
     "metadata": {},
     "output_type": "execute_result"
    }
   ],
   "source": [
    "df"
   ]
  },
  {
   "cell_type": "code",
   "execution_count": 99,
   "metadata": {
    "collapsed": true
   },
   "outputs": [],
   "source": [
    "df2 = df[:4]"
   ]
  },
  {
   "cell_type": "code",
   "execution_count": 100,
   "metadata": {
    "collapsed": false
   },
   "outputs": [
    {
     "data": {
      "text/html": [
       "<div>\n",
       "<table border=\"1\" class=\"dataframe\">\n",
       "  <thead>\n",
       "    <tr style=\"text-align: right;\">\n",
       "      <th></th>\n",
       "      <th></th>\n",
       "      <th>A</th>\n",
       "      <th>B</th>\n",
       "    </tr>\n",
       "    <tr>\n",
       "      <th>first</th>\n",
       "      <th>second</th>\n",
       "      <th></th>\n",
       "      <th></th>\n",
       "    </tr>\n",
       "  </thead>\n",
       "  <tbody>\n",
       "    <tr>\n",
       "      <th rowspan=\"2\" valign=\"top\">bar</th>\n",
       "      <th>one</th>\n",
       "      <td>0.311178</td>\n",
       "      <td>0.935184</td>\n",
       "    </tr>\n",
       "    <tr>\n",
       "      <th>two</th>\n",
       "      <td>1.343832</td>\n",
       "      <td>0.457127</td>\n",
       "    </tr>\n",
       "    <tr>\n",
       "      <th rowspan=\"2\" valign=\"top\">baz</th>\n",
       "      <th>one</th>\n",
       "      <td>0.062657</td>\n",
       "      <td>1.417083</td>\n",
       "    </tr>\n",
       "    <tr>\n",
       "      <th>two</th>\n",
       "      <td>-0.957578</td>\n",
       "      <td>0.003299</td>\n",
       "    </tr>\n",
       "  </tbody>\n",
       "</table>\n",
       "</div>"
      ],
      "text/plain": [
       "                     A         B\n",
       "first second                    \n",
       "bar   one     0.311178  0.935184\n",
       "      two     1.343832  0.457127\n",
       "baz   one     0.062657  1.417083\n",
       "      two    -0.957578  0.003299"
      ]
     },
     "execution_count": 100,
     "metadata": {},
     "output_type": "execute_result"
    }
   ],
   "source": [
    "df2"
   ]
  },
  {
   "cell_type": "code",
   "execution_count": 101,
   "metadata": {
    "collapsed": true
   },
   "outputs": [],
   "source": [
    "stacked = df2.stack()"
   ]
  },
  {
   "cell_type": "code",
   "execution_count": 102,
   "metadata": {
    "collapsed": false
   },
   "outputs": [
    {
     "data": {
      "text/plain": [
       "first  second   \n",
       "bar    one     A    0.311178\n",
       "               B    0.935184\n",
       "       two     A    1.343832\n",
       "               B    0.457127\n",
       "baz    one     A    0.062657\n",
       "               B    1.417083\n",
       "       two     A   -0.957578\n",
       "               B    0.003299\n",
       "dtype: float64"
      ]
     },
     "execution_count": 102,
     "metadata": {},
     "output_type": "execute_result"
    }
   ],
   "source": [
    "stacked"
   ]
  },
  {
   "cell_type": "code",
   "execution_count": 104,
   "metadata": {
    "collapsed": false
   },
   "outputs": [
    {
     "data": {
      "text/html": [
       "<div>\n",
       "<table border=\"1\" class=\"dataframe\">\n",
       "  <thead>\n",
       "    <tr style=\"text-align: right;\">\n",
       "      <th></th>\n",
       "      <th>first</th>\n",
       "      <th>bar</th>\n",
       "      <th>baz</th>\n",
       "    </tr>\n",
       "    <tr>\n",
       "      <th>second</th>\n",
       "      <th></th>\n",
       "      <th></th>\n",
       "      <th></th>\n",
       "    </tr>\n",
       "  </thead>\n",
       "  <tbody>\n",
       "    <tr>\n",
       "      <th rowspan=\"2\" valign=\"top\">one</th>\n",
       "      <th>A</th>\n",
       "      <td>0.311178</td>\n",
       "      <td>0.062657</td>\n",
       "    </tr>\n",
       "    <tr>\n",
       "      <th>B</th>\n",
       "      <td>0.935184</td>\n",
       "      <td>1.417083</td>\n",
       "    </tr>\n",
       "    <tr>\n",
       "      <th rowspan=\"2\" valign=\"top\">two</th>\n",
       "      <th>A</th>\n",
       "      <td>1.343832</td>\n",
       "      <td>-0.957578</td>\n",
       "    </tr>\n",
       "    <tr>\n",
       "      <th>B</th>\n",
       "      <td>0.457127</td>\n",
       "      <td>0.003299</td>\n",
       "    </tr>\n",
       "  </tbody>\n",
       "</table>\n",
       "</div>"
      ],
      "text/plain": [
       "first          bar       baz\n",
       "second                      \n",
       "one    A  0.311178  0.062657\n",
       "       B  0.935184  1.417083\n",
       "two    A  1.343832 -0.957578\n",
       "       B  0.457127  0.003299"
      ]
     },
     "execution_count": 104,
     "metadata": {},
     "output_type": "execute_result"
    }
   ],
   "source": [
    "stacked.unstack(0)"
   ]
  },
  {
   "cell_type": "code",
   "execution_count": 105,
   "metadata": {
    "collapsed": true
   },
   "outputs": [],
   "source": [
    "df = pd.DataFrame({'A' : ['one', 'one', 'two', 'three'] * 3,\n",
    "  'B' : ['A', 'B', 'C'] * 4,\n",
    " 'C' : ['foo', 'foo', 'foo', 'bar', 'bar', 'bar'] * 2,\n",
    " 'D' : np.random.randn(12),\n",
    " 'E' : np.random.randn(12)})"
   ]
  },
  {
   "cell_type": "code",
   "execution_count": 106,
   "metadata": {
    "collapsed": false
   },
   "outputs": [
    {
     "data": {
      "text/html": [
       "<div>\n",
       "<table border=\"1\" class=\"dataframe\">\n",
       "  <thead>\n",
       "    <tr style=\"text-align: right;\">\n",
       "      <th></th>\n",
       "      <th>A</th>\n",
       "      <th>B</th>\n",
       "      <th>C</th>\n",
       "      <th>D</th>\n",
       "      <th>E</th>\n",
       "    </tr>\n",
       "  </thead>\n",
       "  <tbody>\n",
       "    <tr>\n",
       "      <th>0</th>\n",
       "      <td>one</td>\n",
       "      <td>A</td>\n",
       "      <td>foo</td>\n",
       "      <td>0.569914</td>\n",
       "      <td>-0.101927</td>\n",
       "    </tr>\n",
       "    <tr>\n",
       "      <th>1</th>\n",
       "      <td>one</td>\n",
       "      <td>B</td>\n",
       "      <td>foo</td>\n",
       "      <td>-1.678941</td>\n",
       "      <td>1.448052</td>\n",
       "    </tr>\n",
       "    <tr>\n",
       "      <th>2</th>\n",
       "      <td>two</td>\n",
       "      <td>C</td>\n",
       "      <td>foo</td>\n",
       "      <td>-0.232439</td>\n",
       "      <td>2.891235</td>\n",
       "    </tr>\n",
       "    <tr>\n",
       "      <th>3</th>\n",
       "      <td>three</td>\n",
       "      <td>A</td>\n",
       "      <td>bar</td>\n",
       "      <td>1.209825</td>\n",
       "      <td>0.246783</td>\n",
       "    </tr>\n",
       "    <tr>\n",
       "      <th>4</th>\n",
       "      <td>one</td>\n",
       "      <td>B</td>\n",
       "      <td>bar</td>\n",
       "      <td>1.126956</td>\n",
       "      <td>-2.352329</td>\n",
       "    </tr>\n",
       "    <tr>\n",
       "      <th>5</th>\n",
       "      <td>one</td>\n",
       "      <td>C</td>\n",
       "      <td>bar</td>\n",
       "      <td>1.044423</td>\n",
       "      <td>0.130255</td>\n",
       "    </tr>\n",
       "    <tr>\n",
       "      <th>6</th>\n",
       "      <td>two</td>\n",
       "      <td>A</td>\n",
       "      <td>foo</td>\n",
       "      <td>-3.040242</td>\n",
       "      <td>0.134729</td>\n",
       "    </tr>\n",
       "    <tr>\n",
       "      <th>7</th>\n",
       "      <td>three</td>\n",
       "      <td>B</td>\n",
       "      <td>foo</td>\n",
       "      <td>-0.971909</td>\n",
       "      <td>0.581438</td>\n",
       "    </tr>\n",
       "    <tr>\n",
       "      <th>8</th>\n",
       "      <td>one</td>\n",
       "      <td>C</td>\n",
       "      <td>foo</td>\n",
       "      <td>-1.442347</td>\n",
       "      <td>0.182729</td>\n",
       "    </tr>\n",
       "    <tr>\n",
       "      <th>9</th>\n",
       "      <td>one</td>\n",
       "      <td>A</td>\n",
       "      <td>bar</td>\n",
       "      <td>-0.188240</td>\n",
       "      <td>-0.387716</td>\n",
       "    </tr>\n",
       "    <tr>\n",
       "      <th>10</th>\n",
       "      <td>two</td>\n",
       "      <td>B</td>\n",
       "      <td>bar</td>\n",
       "      <td>-1.189482</td>\n",
       "      <td>-1.310513</td>\n",
       "    </tr>\n",
       "    <tr>\n",
       "      <th>11</th>\n",
       "      <td>three</td>\n",
       "      <td>C</td>\n",
       "      <td>bar</td>\n",
       "      <td>0.558451</td>\n",
       "      <td>0.824896</td>\n",
       "    </tr>\n",
       "  </tbody>\n",
       "</table>\n",
       "</div>"
      ],
      "text/plain": [
       "        A  B    C         D         E\n",
       "0     one  A  foo  0.569914 -0.101927\n",
       "1     one  B  foo -1.678941  1.448052\n",
       "2     two  C  foo -0.232439  2.891235\n",
       "3   three  A  bar  1.209825  0.246783\n",
       "4     one  B  bar  1.126956 -2.352329\n",
       "5     one  C  bar  1.044423  0.130255\n",
       "6     two  A  foo -3.040242  0.134729\n",
       "7   three  B  foo -0.971909  0.581438\n",
       "8     one  C  foo -1.442347  0.182729\n",
       "9     one  A  bar -0.188240 -0.387716\n",
       "10    two  B  bar -1.189482 -1.310513\n",
       "11  three  C  bar  0.558451  0.824896"
      ]
     },
     "execution_count": 106,
     "metadata": {},
     "output_type": "execute_result"
    }
   ],
   "source": [
    "df"
   ]
  },
  {
   "cell_type": "code",
   "execution_count": 115,
   "metadata": {
    "collapsed": false
   },
   "outputs": [
    {
     "data": {
      "text/html": [
       "<div>\n",
       "<table border=\"1\" class=\"dataframe\">\n",
       "  <thead>\n",
       "    <tr style=\"text-align: right;\">\n",
       "      <th>B</th>\n",
       "      <th>A</th>\n",
       "      <th>B</th>\n",
       "      <th>C</th>\n",
       "    </tr>\n",
       "    <tr>\n",
       "      <th>C</th>\n",
       "      <th></th>\n",
       "      <th></th>\n",
       "      <th></th>\n",
       "    </tr>\n",
       "  </thead>\n",
       "  <tbody>\n",
       "    <tr>\n",
       "      <th>bar</th>\n",
       "      <td>-0.070467</td>\n",
       "      <td>-1.831421</td>\n",
       "      <td>0.477576</td>\n",
       "    </tr>\n",
       "    <tr>\n",
       "      <th>foo</th>\n",
       "      <td>0.016401</td>\n",
       "      <td>1.014745</td>\n",
       "      <td>1.536982</td>\n",
       "    </tr>\n",
       "  </tbody>\n",
       "</table>\n",
       "</div>"
      ],
      "text/plain": [
       "B           A         B         C\n",
       "C                                \n",
       "bar -0.070467 -1.831421  0.477576\n",
       "foo  0.016401  1.014745  1.536982"
      ]
     },
     "execution_count": 115,
     "metadata": {},
     "output_type": "execute_result"
    }
   ],
   "source": [
    "pd.pivot_table(df, values='E', index=['C'], columns=['B'])"
   ]
  },
  {
   "cell_type": "code",
   "execution_count": 126,
   "metadata": {
    "collapsed": true
   },
   "outputs": [],
   "source": [
    "rng = pd.date_range('1/1/2012', periods=100, freq='S')"
   ]
  },
  {
   "cell_type": "code",
   "execution_count": 127,
   "metadata": {
    "collapsed": false
   },
   "outputs": [],
   "source": [
    "ts = pd.Series(np.random.randint(0, 500, len(rng)), index=rng)\n"
   ]
  },
  {
   "cell_type": "code",
   "execution_count": 129,
   "metadata": {
    "collapsed": false
   },
   "outputs": [
    {
     "data": {
      "text/plain": [
       "2012-01-01 00:00:00    206\n",
       "2012-01-01 00:00:01    236\n",
       "2012-01-01 00:00:02     92\n",
       "2012-01-01 00:00:03    482\n",
       "2012-01-01 00:00:04    245\n",
       "2012-01-01 00:00:05    258\n",
       "2012-01-01 00:00:06     34\n",
       "2012-01-01 00:00:07    438\n",
       "2012-01-01 00:00:08    436\n",
       "2012-01-01 00:00:09    382\n",
       "2012-01-01 00:00:10      4\n",
       "2012-01-01 00:00:11    223\n",
       "2012-01-01 00:00:12    462\n",
       "2012-01-01 00:00:13    425\n",
       "2012-01-01 00:00:14    200\n",
       "2012-01-01 00:00:15    113\n",
       "2012-01-01 00:00:16     82\n",
       "2012-01-01 00:00:17    206\n",
       "2012-01-01 00:00:18     96\n",
       "2012-01-01 00:00:19    429\n",
       "2012-01-01 00:00:20    361\n",
       "2012-01-01 00:00:21      9\n",
       "2012-01-01 00:00:22    240\n",
       "2012-01-01 00:00:23    181\n",
       "2012-01-01 00:00:24     54\n",
       "2012-01-01 00:00:25    430\n",
       "2012-01-01 00:00:26    475\n",
       "2012-01-01 00:00:27    490\n",
       "2012-01-01 00:00:28    423\n",
       "2012-01-01 00:00:29    311\n",
       "                      ... \n",
       "2012-01-01 00:01:10    305\n",
       "2012-01-01 00:01:11    307\n",
       "2012-01-01 00:01:12    439\n",
       "2012-01-01 00:01:13    130\n",
       "2012-01-01 00:01:14    357\n",
       "2012-01-01 00:01:15    434\n",
       "2012-01-01 00:01:16    446\n",
       "2012-01-01 00:01:17    215\n",
       "2012-01-01 00:01:18    432\n",
       "2012-01-01 00:01:19    192\n",
       "2012-01-01 00:01:20     41\n",
       "2012-01-01 00:01:21    104\n",
       "2012-01-01 00:01:22    338\n",
       "2012-01-01 00:01:23     64\n",
       "2012-01-01 00:01:24    405\n",
       "2012-01-01 00:01:25    197\n",
       "2012-01-01 00:01:26    456\n",
       "2012-01-01 00:01:27     40\n",
       "2012-01-01 00:01:28    434\n",
       "2012-01-01 00:01:29     28\n",
       "2012-01-01 00:01:30    319\n",
       "2012-01-01 00:01:31      9\n",
       "2012-01-01 00:01:32     22\n",
       "2012-01-01 00:01:33    312\n",
       "2012-01-01 00:01:34     34\n",
       "2012-01-01 00:01:35     61\n",
       "2012-01-01 00:01:36    103\n",
       "2012-01-01 00:01:37     97\n",
       "2012-01-01 00:01:38     34\n",
       "2012-01-01 00:01:39    100\n",
       "Freq: S, dtype: int64"
      ]
     },
     "execution_count": 129,
     "metadata": {},
     "output_type": "execute_result"
    }
   ],
   "source": [
    "ts"
   ]
  },
  {
   "cell_type": "code",
   "execution_count": 130,
   "metadata": {
    "collapsed": false
   },
   "outputs": [
    {
     "data": {
      "text/plain": [
       "2012-01-01 00:00:00    16441\n",
       "2012-01-01 00:01:00     9711\n",
       "Freq: T, dtype: int64"
      ]
     },
     "execution_count": 130,
     "metadata": {},
     "output_type": "execute_result"
    }
   ],
   "source": [
    "ts.resample('1Min').sum()"
   ]
  },
  {
   "cell_type": "code",
   "execution_count": 124,
   "metadata": {
    "collapsed": false
   },
   "outputs": [],
   "source": [
    "ts = ts.resample('5Min')"
   ]
  },
  {
   "cell_type": "code",
   "execution_count": 131,
   "metadata": {
    "collapsed": false
   },
   "outputs": [],
   "source": [
    "rng = pd.date_range('3/6/2012 00:00', periods=5, freq='D')\n"
   ]
  },
  {
   "cell_type": "code",
   "execution_count": 132,
   "metadata": {
    "collapsed": true
   },
   "outputs": [],
   "source": [
    "ts = pd.Series(np.random.randn(len(rng)), rng)\n"
   ]
  },
  {
   "cell_type": "code",
   "execution_count": 133,
   "metadata": {
    "collapsed": false
   },
   "outputs": [
    {
     "data": {
      "text/plain": [
       "2012-03-06    0.752728\n",
       "2012-03-07    0.338552\n",
       "2012-03-08    0.831128\n",
       "2012-03-09   -0.860954\n",
       "2012-03-10    0.459037\n",
       "Freq: D, dtype: float64"
      ]
     },
     "execution_count": 133,
     "metadata": {},
     "output_type": "execute_result"
    }
   ],
   "source": [
    "ts"
   ]
  },
  {
   "cell_type": "code",
   "execution_count": 134,
   "metadata": {
    "collapsed": true
   },
   "outputs": [],
   "source": [
    "ts_utc = ts.tz_localize('UTC')"
   ]
  },
  {
   "cell_type": "code",
   "execution_count": 135,
   "metadata": {
    "collapsed": false
   },
   "outputs": [
    {
     "data": {
      "text/plain": [
       "2012-03-06 00:00:00+00:00    0.752728\n",
       "2012-03-07 00:00:00+00:00    0.338552\n",
       "2012-03-08 00:00:00+00:00    0.831128\n",
       "2012-03-09 00:00:00+00:00   -0.860954\n",
       "2012-03-10 00:00:00+00:00    0.459037\n",
       "Freq: D, dtype: float64"
      ]
     },
     "execution_count": 135,
     "metadata": {},
     "output_type": "execute_result"
    }
   ],
   "source": [
    "ts_utc "
   ]
  },
  {
   "cell_type": "code",
   "execution_count": 136,
   "metadata": {
    "collapsed": false
   },
   "outputs": [
    {
     "data": {
      "text/plain": [
       "2012-03-05 19:00:00-05:00    0.752728\n",
       "2012-03-06 19:00:00-05:00    0.338552\n",
       "2012-03-07 19:00:00-05:00    0.831128\n",
       "2012-03-08 19:00:00-05:00   -0.860954\n",
       "2012-03-09 19:00:00-05:00    0.459037\n",
       "Freq: D, dtype: float64"
      ]
     },
     "execution_count": 136,
     "metadata": {},
     "output_type": "execute_result"
    }
   ],
   "source": [
    "ts_utc.tz_convert('US/Eastern')"
   ]
  },
  {
   "cell_type": "code",
   "execution_count": 137,
   "metadata": {
    "collapsed": true
   },
   "outputs": [],
   "source": [
    "rng = pd.date_range('1/1/2012', periods=5, freq='M')"
   ]
  },
  {
   "cell_type": "code",
   "execution_count": 138,
   "metadata": {
    "collapsed": true
   },
   "outputs": [],
   "source": [
    "ts = pd.Series(np.random.randn(len(rng)), index=rng)\n"
   ]
  },
  {
   "cell_type": "code",
   "execution_count": 140,
   "metadata": {
    "collapsed": false
   },
   "outputs": [
    {
     "data": {
      "text/plain": [
       "2012-01-31   -0.165536\n",
       "2012-02-29   -0.771387\n",
       "2012-03-31   -0.287900\n",
       "2012-04-30    1.655406\n",
       "2012-05-31    0.823078\n",
       "Freq: M, dtype: float64"
      ]
     },
     "execution_count": 140,
     "metadata": {},
     "output_type": "execute_result"
    }
   ],
   "source": [
    "ts"
   ]
  },
  {
   "cell_type": "code",
   "execution_count": 142,
   "metadata": {
    "collapsed": false
   },
   "outputs": [],
   "source": [
    "ps = ts.to_period()\n"
   ]
  },
  {
   "cell_type": "code",
   "execution_count": 144,
   "metadata": {
    "collapsed": false
   },
   "outputs": [
    {
     "data": {
      "text/plain": [
       "2012-01-01   -0.165536\n",
       "2012-02-01   -0.771387\n",
       "2012-03-01   -0.287900\n",
       "2012-04-01    1.655406\n",
       "2012-05-01    0.823078\n",
       "Freq: MS, dtype: float64"
      ]
     },
     "execution_count": 144,
     "metadata": {},
     "output_type": "execute_result"
    }
   ],
   "source": [
    "ps.to_timestamp()"
   ]
  },
  {
   "cell_type": "code",
   "execution_count": 145,
   "metadata": {
    "collapsed": true
   },
   "outputs": [],
   "source": [
    "prng = pd.period_range('1990Q1', '2000Q4', freq='Q-NOV')\n"
   ]
  },
  {
   "cell_type": "code",
   "execution_count": 146,
   "metadata": {
    "collapsed": false
   },
   "outputs": [
    {
     "data": {
      "text/plain": [
       "PeriodIndex(['1990Q1', '1990Q2', '1990Q3', '1990Q4', '1991Q1', '1991Q2',\n",
       "             '1991Q3', '1991Q4', '1992Q1', '1992Q2', '1992Q3', '1992Q4',\n",
       "             '1993Q1', '1993Q2', '1993Q3', '1993Q4', '1994Q1', '1994Q2',\n",
       "             '1994Q3', '1994Q4', '1995Q1', '1995Q2', '1995Q3', '1995Q4',\n",
       "             '1996Q1', '1996Q2', '1996Q3', '1996Q4', '1997Q1', '1997Q2',\n",
       "             '1997Q3', '1997Q4', '1998Q1', '1998Q2', '1998Q3', '1998Q4',\n",
       "             '1999Q1', '1999Q2', '1999Q3', '1999Q4', '2000Q1', '2000Q2',\n",
       "             '2000Q3', '2000Q4'],\n",
       "            dtype='int64', freq='Q-NOV')"
      ]
     },
     "execution_count": 146,
     "metadata": {},
     "output_type": "execute_result"
    }
   ],
   "source": [
    "prng"
   ]
  },
  {
   "cell_type": "code",
   "execution_count": 147,
   "metadata": {
    "collapsed": true
   },
   "outputs": [],
   "source": [
    " ts = pd.Series(np.random.randn(len(prng)), prng)\n"
   ]
  },
  {
   "cell_type": "code",
   "execution_count": 161,
   "metadata": {
    "collapsed": false
   },
   "outputs": [
    {
     "data": {
      "text/plain": [
       "PeriodIndex(['1990-02-01 09:00', '1990-05-01 09:00', '1990-08-01 09:00',\n",
       "             '1990-11-01 09:00', '1991-02-01 09:00', '1991-05-01 09:00',\n",
       "             '1991-08-01 09:00', '1991-11-01 09:00', '1992-02-01 09:00',\n",
       "             '1992-05-01 09:00', '1992-08-01 09:00', '1992-11-01 09:00',\n",
       "             '1993-02-01 09:00', '1993-05-01 09:00', '1993-08-01 09:00',\n",
       "             '1993-11-01 09:00', '1994-02-01 09:00', '1994-05-01 09:00',\n",
       "             '1994-08-01 09:00', '1994-11-01 09:00', '1995-02-01 09:00',\n",
       "             '1995-05-01 09:00', '1995-08-01 09:00', '1995-11-01 09:00',\n",
       "             '1996-02-01 09:00', '1996-05-01 09:00', '1996-08-01 09:00',\n",
       "             '1996-11-01 09:00', '1997-02-01 09:00', '1997-05-01 09:00',\n",
       "             '1997-08-01 09:00', '1997-11-01 09:00', '1998-02-01 09:00',\n",
       "             '1998-05-01 09:00', '1998-08-01 09:00', '1998-11-01 09:00',\n",
       "             '1999-02-01 09:00', '1999-05-01 09:00', '1999-08-01 09:00',\n",
       "             '1999-11-01 09:00', '2000-02-01 09:00', '2000-05-01 09:00',\n",
       "             '2000-08-01 09:00', '2000-11-01 09:00'],\n",
       "            dtype='int64', freq='H')"
      ]
     },
     "execution_count": 161,
     "metadata": {},
     "output_type": "execute_result"
    }
   ],
   "source": [
    "prng.asfreq('M','e').asfreq('H','s') + 9"
   ]
  },
  {
   "cell_type": "code",
   "execution_count": 162,
   "metadata": {
    "collapsed": true
   },
   "outputs": [],
   "source": [
    "df = pd.DataFrame({\"id\":[1,2,3,4,5,6], \"raw_grade\":['a', 'b', 'b', 'a', 'a', 'e']})"
   ]
  },
  {
   "cell_type": "code",
   "execution_count": 163,
   "metadata": {
    "collapsed": true
   },
   "outputs": [],
   "source": [
    "df[\"grade\"] = df[\"raw_grade\"].astype(\"category\")\n"
   ]
  },
  {
   "cell_type": "code",
   "execution_count": 164,
   "metadata": {
    "collapsed": false
   },
   "outputs": [
    {
     "data": {
      "text/plain": [
       "0    a\n",
       "1    b\n",
       "2    b\n",
       "3    a\n",
       "4    a\n",
       "5    e\n",
       "Name: grade, dtype: category\n",
       "Categories (3, object): [a, b, e]"
      ]
     },
     "execution_count": 164,
     "metadata": {},
     "output_type": "execute_result"
    }
   ],
   "source": [
    "df[\"grade\"]"
   ]
  },
  {
   "cell_type": "code",
   "execution_count": 165,
   "metadata": {
    "collapsed": true
   },
   "outputs": [],
   "source": [
    "df[\"grade\"].cat.categories = [\"very good\", \"good\", \"very bad\"]\n"
   ]
  },
  {
   "cell_type": "code",
   "execution_count": 167,
   "metadata": {
    "collapsed": false
   },
   "outputs": [],
   "source": [
    "df[\"grade\"] = df[\"grade\"].cat.set_categories([\"very bad\", \"bad\", \"medium\", \"good\", \"very good\"])\n"
   ]
  },
  {
   "cell_type": "code",
   "execution_count": 168,
   "metadata": {
    "collapsed": false
   },
   "outputs": [
    {
     "data": {
      "text/html": [
       "<div>\n",
       "<table border=\"1\" class=\"dataframe\">\n",
       "  <thead>\n",
       "    <tr style=\"text-align: right;\">\n",
       "      <th></th>\n",
       "      <th>id</th>\n",
       "      <th>raw_grade</th>\n",
       "      <th>grade</th>\n",
       "    </tr>\n",
       "  </thead>\n",
       "  <tbody>\n",
       "    <tr>\n",
       "      <th>0</th>\n",
       "      <td>1</td>\n",
       "      <td>a</td>\n",
       "      <td>very good</td>\n",
       "    </tr>\n",
       "    <tr>\n",
       "      <th>1</th>\n",
       "      <td>2</td>\n",
       "      <td>b</td>\n",
       "      <td>good</td>\n",
       "    </tr>\n",
       "    <tr>\n",
       "      <th>2</th>\n",
       "      <td>3</td>\n",
       "      <td>b</td>\n",
       "      <td>good</td>\n",
       "    </tr>\n",
       "    <tr>\n",
       "      <th>3</th>\n",
       "      <td>4</td>\n",
       "      <td>a</td>\n",
       "      <td>very good</td>\n",
       "    </tr>\n",
       "    <tr>\n",
       "      <th>4</th>\n",
       "      <td>5</td>\n",
       "      <td>a</td>\n",
       "      <td>very good</td>\n",
       "    </tr>\n",
       "    <tr>\n",
       "      <th>5</th>\n",
       "      <td>6</td>\n",
       "      <td>e</td>\n",
       "      <td>very bad</td>\n",
       "    </tr>\n",
       "  </tbody>\n",
       "</table>\n",
       "</div>"
      ],
      "text/plain": [
       "   id raw_grade      grade\n",
       "0   1         a  very good\n",
       "1   2         b       good\n",
       "2   3         b       good\n",
       "3   4         a  very good\n",
       "4   5         a  very good\n",
       "5   6         e   very bad"
      ]
     },
     "execution_count": 168,
     "metadata": {},
     "output_type": "execute_result"
    }
   ],
   "source": [
    "df"
   ]
  },
  {
   "cell_type": "code",
   "execution_count": null,
   "metadata": {
    "collapsed": true
   },
   "outputs": [],
   "source": []
  }
 ],
 "metadata": {
  "kernelspec": {
   "display_name": "Python 2",
   "language": "python",
   "name": "python2"
  },
  "language_info": {
   "codemirror_mode": {
    "name": "ipython",
    "version": 2
   },
   "file_extension": ".py",
   "mimetype": "text/x-python",
   "name": "python",
   "nbconvert_exporter": "python",
   "pygments_lexer": "ipython2",
   "version": "2.7.9"
  }
 },
 "nbformat": 4,
 "nbformat_minor": 0
}
